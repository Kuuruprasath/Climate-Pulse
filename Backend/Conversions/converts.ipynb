{
 "cells": [
  {
   "cell_type": "code",
   "execution_count": 1,
   "metadata": {},
   "outputs": [],
   "source": [
    "\n",
    "import pandas as pd\n"
   ]
  },
  {
   "cell_type": "markdown",
   "metadata": {},
   "source": [
    "# Converting Name to Latititude and Longtitudeb"
   ]
  },
  {
   "cell_type": "code",
   "execution_count": 4,
   "metadata": {},
   "outputs": [
    {
     "name": "stdout",
     "output_type": "stream",
     "text": [
      "[3       -34.408694\n",
      "10849   -37.918194\n",
      "Name: Latitude, dtype: float64, 3        150.536771\n",
      "10849    145.130210\n",
      "Name: Longitude, dtype: float64]\n"
     ]
    }
   ],
   "source": [
    "\n",
    "def suburb_to_lat_long(suburblist):\n",
    "\n",
    "    suburbs = pd.read_csv(\"../Actual_datasets/SuburbClustered.csv\")\n",
    "    filter = suburbs[suburbs[\"OfficialNameSuburb\"].isin(suburblist)]\n",
    "    latitude = filter[\"Latitude\"]\n",
    "    longtitude = filter[\"Longitude\"]\n",
    "    return [latitude,longtitude]\n",
    "print(suburb_to_lat_long([\"Alpine\",\"Clayton\"]))\n"
   ]
  },
  {
   "cell_type": "markdown",
   "metadata": {},
   "source": [
    "# Name to Cluster ID "
   ]
  },
  {
   "cell_type": "code",
   "execution_count": 5,
   "metadata": {},
   "outputs": [
    {
     "name": "stdout",
     "output_type": "stream",
     "text": [
      "3         96417\n",
      "10849    106402\n",
      "Name: ClusterID, dtype: int64\n"
     ]
    }
   ],
   "source": [
    "def suburb_to_ClusterID(suburblist):  \n",
    "    suburbs = pd.read_csv(\"../Actual_datasets/SuburbClustered.csv\")\n",
    "    suburbs\n",
    "    filter = suburbs[suburbs[\"OfficialNameSuburb\"].isin(suburblist)]\n",
    "    clusterID = filter[\"ClusterID\"]\n",
    "    return clusterID\n",
    "print(suburb_to_ClusterID([\"Alpine\",\"Clayton\"]))\n"
   ]
  },
  {
   "cell_type": "markdown",
   "metadata": {},
   "source": [
    "# Cluster ID to Weather Variables"
   ]
  },
  {
   "cell_type": "code",
   "execution_count": 6,
   "metadata": {},
   "outputs": [
    {
     "name": "stdout",
     "output_type": "stream",
     "text": [
      "         ClusterID                   Datetime  TemperatureMean  \\\n",
      "1014740     106402  1999-12-31 00:00:00+00:00        13.031000   \n",
      "1014741     106402  2000-01-01 00:00:00+00:00        15.370999   \n",
      "1014742     106402  2000-01-02 00:00:00+00:00        18.935583   \n",
      "1014743     106402  2000-01-03 00:00:00+00:00        18.871000   \n",
      "1014744     106402  2000-01-04 00:00:00+00:00        14.554333   \n",
      "...            ...                        ...              ...   \n",
      "1023715     106402  2024-07-27 00:00:00+00:00         8.040083   \n",
      "1023716     106402  2024-07-28 00:00:00+00:00         9.350499   \n",
      "1023717     106402  2024-07-29 00:00:00+00:00         7.406750   \n",
      "1023718     106402  2024-07-30 00:00:00+00:00         5.502583   \n",
      "1023719     106402  2024-07-31 00:00:00+00:00         7.084428   \n",
      "\n",
      "         TemperatureMax  TemperatureMin  RainSum  RelativeHumidityMean  \\\n",
      "1014740       17.421001       10.671000      0.0             73.706190   \n",
      "1014741       19.971000       10.120999      0.0             61.498520   \n",
      "1014742       24.771000       12.171000      0.0             63.202473   \n",
      "1014743       29.171001       13.120999     19.0             70.371185   \n",
      "1014744       16.921001       12.671000      5.3             71.284290   \n",
      "...                 ...             ...      ...                   ...   \n",
      "1023715       12.412999        6.113000     14.2             82.750630   \n",
      "1023716       11.013000        8.263000      2.1             69.667200   \n",
      "1023717       10.412999        4.513000      1.1             94.676830   \n",
      "1023718       11.863000       -0.037000      0.0             88.498350   \n",
      "1023719       10.513000        2.163000      0.0             85.388320   \n",
      "\n",
      "         RelativeHumidityMax  RelativeHumidityMin  \n",
      "1014740            85.687930            50.806530  \n",
      "1014741            81.921170            41.857864  \n",
      "1014742            93.610680            41.450410  \n",
      "1014743            97.739790            30.601225  \n",
      "1014744            87.853600            62.485590  \n",
      "...                      ...                  ...  \n",
      "1023715            89.365814            68.907400  \n",
      "1023716            93.748670            52.882385  \n",
      "1023717           100.000000            86.244316  \n",
      "1023718            96.790300            69.032740  \n",
      "1023719            98.936370            73.693750  \n",
      "\n",
      "[8980 rows x 9 columns]\n"
     ]
    }
   ],
   "source": [
    "def clusterID_to_variables(clusterList):  \n",
    "    weather = pd.read_csv(\"../Actual_datasets/WeatherData.csv\")\n",
    "    filter = weather[weather[\"ClusterID\"].isin(clusterList) ]\n",
    "    # mintemp = filter[\"TemperatureMin\"]\n",
    "    # maxtemp = filter[\"TemperatureMax\"]\n",
    "    # avgtemp = filter[\"TemperatureMean\"]\n",
    "    # rain = filter[\"RainSum\"]\n",
    "    filterdf = pd.DataFrame(filter)\n",
    "    return filterdf\n",
    "print(clusterID_to_variables([10849,106402]))"
   ]
  },
  {
   "cell_type": "markdown",
   "metadata": {},
   "source": [
    "# Suburb to Var"
   ]
  },
  {
   "cell_type": "code",
   "execution_count": 7,
   "metadata": {},
   "outputs": [
    {
     "name": "stdout",
     "output_type": "stream",
     "text": [
      "         ClusterID                   Datetime  TemperatureMean  \\\n",
      "26940        96417  1999-12-31 00:00:00+00:00        11.000501   \n",
      "26941        96417  2000-01-01 00:00:00+00:00        14.101334   \n",
      "26942        96417  2000-01-02 00:00:00+00:00        13.905499   \n",
      "26943        96417  2000-01-03 00:00:00+00:00        18.563833   \n",
      "26944        96417  2000-01-04 00:00:00+00:00        17.330500   \n",
      "...            ...                        ...              ...   \n",
      "1023715     106402  2024-07-27 00:00:00+00:00         8.040083   \n",
      "1023716     106402  2024-07-28 00:00:00+00:00         9.350499   \n",
      "1023717     106402  2024-07-29 00:00:00+00:00         7.406750   \n",
      "1023718     106402  2024-07-30 00:00:00+00:00         5.502583   \n",
      "1023719     106402  2024-07-31 00:00:00+00:00         7.084428   \n",
      "\n",
      "         TemperatureMax  TemperatureMin  RainSum  RelativeHumidityMean  \\\n",
      "26940         14.655500        9.905500      0.0             71.301834   \n",
      "26941         18.355501       11.605500      0.0             71.268364   \n",
      "26942         17.955500       12.005501      1.6             88.022090   \n",
      "26943         24.505500       13.655500      0.0             72.570854   \n",
      "26944         25.755500       10.455501      1.0             53.006332   \n",
      "...                 ...             ...      ...                   ...   \n",
      "1023715       12.412999        6.113000     14.2             82.750630   \n",
      "1023716       11.013000        8.263000      2.1             69.667200   \n",
      "1023717       10.412999        4.513000      1.1             94.676830   \n",
      "1023718       11.863000       -0.037000      0.0             88.498350   \n",
      "1023719       10.513000        2.163000      0.0             85.388320   \n",
      "\n",
      "         RelativeHumidityMax  RelativeHumidityMin  \n",
      "26940              79.395170            54.041553  \n",
      "26941              90.221940            41.540573  \n",
      "26942              99.344670            64.464800  \n",
      "26943              97.435140            38.637110  \n",
      "26944              67.353940            40.085850  \n",
      "...                      ...                  ...  \n",
      "1023715            89.365814            68.907400  \n",
      "1023716            93.748670            52.882385  \n",
      "1023717           100.000000            86.244316  \n",
      "1023718            96.790300            69.032740  \n",
      "1023719            98.936370            73.693750  \n",
      "\n",
      "[17960 rows x 9 columns]\n"
     ]
    }
   ],
   "source": [
    "def suburb_to_var(suburblist):\n",
    "    ClusterID = suburb_to_ClusterID(suburblist)\n",
    "    variables = clusterID_to_variables(ClusterID)\n",
    "    return variables\n",
    "print(suburb_to_var([\"Alpine\",\"Clayton\"]))\n"
   ]
  },
  {
   "cell_type": "code",
   "execution_count": null,
   "metadata": {},
   "outputs": [],
   "source": [
    "\n",
    "# # Set up temporary directory\n",
    "# temp_dir = '../Temp'\n",
    "# os.makedirs(temp_dir, exist_ok=True)\n",
    "\n",
    "# # Download dataset\n",
    "# kaggle.api.dataset_download_files('https://www.kaggle.com/datasets/nadzmiagthomas/australia-weather-data-2000-2024?select=SuburbClustered.csv', path=temp_dir, unzip=True)\n",
    "\n",
    "# # Now you can load the dataset using pandas or any other library\n",
    "\n",
    "# df = pd.read_csv(os.path.join(temp_dir, 'data.csv'))\n",
    "\n",
    "# # Do something with the data\n",
    "# print(df.head())\n",
    "\n",
    "# # Clean up\n",
    "# shutil.rmtree(temp_dir)\n"
   ]
  },
  {
   "cell_type": "code",
   "execution_count": null,
   "metadata": {},
   "outputs": [],
   "source": []
  }
 ],
 "metadata": {
  "kernelspec": {
   "display_name": "Python 3",
   "language": "python",
   "name": "python3"
  },
  "language_info": {
   "codemirror_mode": {
    "name": "ipython",
    "version": 3
   },
   "file_extension": ".py",
   "mimetype": "text/x-python",
   "name": "python",
   "nbconvert_exporter": "python",
   "pygments_lexer": "ipython3",
   "version": "3.12.5"
  }
 },
 "nbformat": 4,
 "nbformat_minor": 2
}
