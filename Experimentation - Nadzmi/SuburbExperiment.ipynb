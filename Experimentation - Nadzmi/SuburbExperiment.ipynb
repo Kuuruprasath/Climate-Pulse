{
 "cells": [
  {
   "cell_type": "code",
   "execution_count": 1,
   "metadata": {},
   "outputs": [],
   "source": [
    "import pandas as pd\n",
    "import folium\n",
    "import numpy as np\n",
    "import ast"
   ]
  },
  {
   "cell_type": "code",
   "execution_count": 2,
   "metadata": {},
   "outputs": [
    {
     "data": {
      "text/plain": [
       "Index(['OfficialNameSuburb', 'OfficialNameState',\n",
       "       'OfficialCodeLocalGovernmentArea', 'OfficialCodeState', 'Latitude',\n",
       "       'Longitude', 'GeoShape'],\n",
       "      dtype='object')"
      ]
     },
     "execution_count": 2,
     "metadata": {},
     "output_type": "execute_result"
    }
   ],
   "source": [
    "df = pd.read_csv(\"../Datasets/Suburb.csv\")\n",
    "df.columns"
   ]
  },
  {
   "cell_type": "code",
   "execution_count": 3,
   "metadata": {},
   "outputs": [
    {
     "name": "stdout",
     "output_type": "stream",
     "text": [
      "<class 'pandas.core.frame.DataFrame'>\n",
      "RangeIndex: 15334 entries, 0 to 15333\n",
      "Data columns (total 7 columns):\n",
      " #   Column                           Non-Null Count  Dtype  \n",
      "---  ------                           --------------  -----  \n",
      " 0   OfficialNameSuburb               15334 non-null  object \n",
      " 1   OfficialNameState                15334 non-null  object \n",
      " 2   OfficialCodeLocalGovernmentArea  15334 non-null  object \n",
      " 3   OfficialCodeState                15334 non-null  object \n",
      " 4   Latitude                         15334 non-null  float64\n",
      " 5   Longitude                        15334 non-null  float64\n",
      " 6   GeoShape                         15333 non-null  object \n",
      "dtypes: float64(2), object(5)\n",
      "memory usage: 838.7+ KB\n"
     ]
    }
   ],
   "source": [
    "df.info()"
   ]
  },
  {
   "cell_type": "code",
   "execution_count": 4,
   "metadata": {},
   "outputs": [],
   "source": [
    "# Remove one row that doesn't have the geoshape\n",
    "df = df.dropna()"
   ]
  },
  {
   "cell_type": "code",
   "execution_count": 5,
   "metadata": {},
   "outputs": [],
   "source": [
    "# Turn geoshape into dictionary for processing later\n",
    "geoshape = df[\"GeoShape\"].apply(lambda x: ast.literal_eval(x))\n",
    "latitudes = df[\"Latitude\"]\n",
    "longitudes = df[\"Longitude\"]"
   ]
  },
  {
   "cell_type": "markdown",
   "metadata": {},
   "source": [
    "## Create map of suburbs as points"
   ]
  },
  {
   "cell_type": "code",
   "execution_count": 6,
   "metadata": {},
   "outputs": [],
   "source": [
    "# Create a folium map centered around the average of the coordinates\n",
    "map_center = [np.mean(latitudes), np.mean(longitudes)]\n",
    "mymap = folium.Map(location=map_center, zoom_start=13)\n",
    "\n",
    "# Create coordinates from the Latitude and Longitudes\n",
    "coordinates = [c for c in zip(latitudes, longitudes)]\n",
    "\n",
    "# Add each coordinate as a marker on the map\n",
    "for coord in coordinates:\n",
    "    folium.Marker(location=[coord[0], coord[1]], popup=f'({coord[0]}, {coord[1]})').add_to(mymap)\n",
    "\n",
    "# Save the map to an HTML file\n",
    "mymap.save(\"map_points.html\")\n",
    "\n",
    "# Display the map in a Jupyter Notebook (if using one)\n",
    "# display(mymap)\n"
   ]
  },
  {
   "cell_type": "markdown",
   "metadata": {},
   "source": [
    "## Create map of suburbs as regions"
   ]
  },
  {
   "cell_type": "code",
   "execution_count": 7,
   "metadata": {},
   "outputs": [],
   "source": [
    "# Create a folium map centered around the average of the coordinates\n",
    "map_center = [np.mean(latitudes), np.mean(longitudes)]\n",
    "mymap = folium.Map(location=map_center, zoom_start=13)\n",
    "\n",
    "# Add each GeoShape to the map\n",
    "for geo_shape in geoshape:\n",
    "    folium.GeoJson(geo_shape, name=\"geo_shape\").add_to(mymap)\n",
    "\n",
    "# Save the map to an HTML file\n",
    "mymap.save(\"map_region.html\")\n",
    "\n",
    "# Display the map in a Jupyter Notebook (if using one)\n",
    "# display(mymap)"
   ]
  },
  {
   "cell_type": "markdown",
   "metadata": {},
   "source": []
  }
 ],
 "metadata": {
  "kernelspec": {
   "display_name": "Python 3",
   "language": "python",
   "name": "python3"
  },
  "language_info": {
   "codemirror_mode": {
    "name": "ipython",
    "version": 3
   },
   "file_extension": ".py",
   "mimetype": "text/x-python",
   "name": "python",
   "nbconvert_exporter": "python",
   "pygments_lexer": "ipython3",
   "version": "3.9.0"
  }
 },
 "nbformat": 4,
 "nbformat_minor": 2
}
