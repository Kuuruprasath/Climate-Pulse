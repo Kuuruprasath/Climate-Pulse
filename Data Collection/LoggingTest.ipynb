{
 "cells": [
  {
   "cell_type": "code",
   "execution_count": 1,
   "metadata": {},
   "outputs": [],
   "source": [
    "from tqdm.notebook import trange, tqdm\n",
    "import time \n",
    "import logging\n",
    "import sys"
   ]
  },
  {
   "cell_type": "markdown",
   "metadata": {},
   "source": [
    "## Create Logging"
   ]
  },
  {
   "cell_type": "code",
   "execution_count": 3,
   "metadata": {},
   "outputs": [],
   "source": [
    "import logging\n",
    "logger = logging.getLogger()\n",
    "fhandler = logging.FileHandler(filename='testlog.log', encoding=\"utf-8\")\n",
    "formatter = logging.Formatter('%(asctime)s [%(levelname)s] - %(name)s:%(filename)s > %(message)s')\n",
    "fhandler.setFormatter(formatter)\n",
    "logger.addHandler(fhandler)\n",
    "logger.setLevel(logging.DEBUG) "
   ]
  },
  {
   "cell_type": "markdown",
   "metadata": {},
   "source": [
    "## Open Log"
   ]
  },
  {
   "cell_type": "code",
   "execution_count": 1,
   "metadata": {},
   "outputs": [
    {
     "name": "stdout",
     "output_type": "stream",
     "text": [
      "2024-08-03 19:45:49,458 [INFO] - root:1895042709.py > This is an info message.\n",
      "2024-08-03 19:45:49,458 [ERROR] - root:1895042709.py > This is an error message.\n",
      "2024-08-03 19:46:22,493 [INFO] - root:1577974892.py > This is an info message.\n",
      "2024-08-03 19:46:22,493 [ERROR] - root:1577974892.py > This is an error message.\n",
      "\n"
     ]
    }
   ],
   "source": [
    "import logging\n",
    "\n",
    "# Configure the logger\n",
    "logging.basicConfig(\n",
    "    filename='testlog.log',    # Use the existing log file\n",
    "    filemode='a',          # Append mode, to add to the existing log file. 'w' for overwrite\n",
    "    format='%(asctime)s [%(levelname)s] - %(name)s:%(filename)s > %(message)s', # Format using %() for backward compatibility\n",
    "    level=logging.DEBUG     # Set the logging level as needed. DEBUG means log everything above DEBUG\n",
    ")\n",
    "\n",
    "# Create a logger object\n",
    "logger = logging.getLogger()\n",
    "\n",
    "# Test logging\n",
    "logger.info('This is an info message.')\n",
    "logger.error('This is an error message.')\n",
    "\n",
    "# To read and display the log file content\n",
    "with open('testlog.log', 'r') as log_file:\n",
    "    log_content = log_file.read()\n",
    "\n",
    "\n",
    "print(log_content)"
   ]
  },
  {
   "cell_type": "markdown",
   "metadata": {},
   "source": [
    "## Key into the log when error occured"
   ]
  },
  {
   "cell_type": "code",
   "execution_count": 5,
   "metadata": {},
   "outputs": [
    {
     "data": {
      "application/vnd.jupyter.widget-view+json": {
       "model_id": "d62d0b375a044097a823bba8ab7c3f40",
       "version_major": 2,
       "version_minor": 0
      },
      "text/plain": [
       "  0%|          | 0/6 [00:00<?, ?it/s]"
      ]
     },
     "metadata": {},
     "output_type": "display_data"
    },
    {
     "name": "stdout",
     "output_type": "stream",
     "text": [
      "5.0\n",
      "6.666666666666667\n",
      "10.0\n",
      "20.0\n",
      "division by zero at iteration 4\n",
      "-20.0\n"
     ]
    }
   ],
   "source": [
    "for i in trange(6):\n",
    "    time.sleep(0.5)\n",
    "    try:\n",
    "        print(20/(4 - i)) # When i = 4; division by zero occured\n",
    "    except Exception as err:\n",
    "        s = \"{err} at iteration {i}\".format(err=err, i=i)\n",
    "        logger.error(s)\n",
    "        print(s)"
   ]
  },
  {
   "cell_type": "markdown",
   "metadata": {},
   "source": []
  }
 ],
 "metadata": {
  "kernelspec": {
   "display_name": "Python 3",
   "language": "python",
   "name": "python3"
  },
  "language_info": {
   "codemirror_mode": {
    "name": "ipython",
    "version": 3
   },
   "file_extension": ".py",
   "mimetype": "text/x-python",
   "name": "python",
   "nbconvert_exporter": "python",
   "pygments_lexer": "ipython3",
   "version": "3.9.0"
  }
 },
 "nbformat": 4,
 "nbformat_minor": 2
}
