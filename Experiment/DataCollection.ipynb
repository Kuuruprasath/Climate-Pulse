{
 "cells": [
  {
   "cell_type": "code",
   "execution_count": 1,
   "metadata": {},
   "outputs": [],
   "source": [
    "import os\n",
    "import sys\n",
    "import openmeteo_requests\n",
    "import requests_cache\n",
    "import pandas as pd\n",
    "import dask.dataframe as dd\n",
    "from retry_requests import retry\n",
    "from datetime import datetime, timedelta\n",
    "import logging\n",
    "import json\n",
    "# from tqdm.notebook import trange, tqdm\n",
    "import pyarrow"
   ]
  },
  {
   "cell_type": "markdown",
   "metadata": {},
   "source": [
    "## Define Functions"
   ]
  },
  {
   "cell_type": "code",
   "execution_count": 2,
   "metadata": {},
   "outputs": [],
   "source": [
    "# TODO: Add error handling\n",
    "def fetch_weather(latitudes, longitudes, start_date, end_date):\n",
    "    \"\"\"\n",
    "    Get weather data for (latitudes, longitudes) from start_date to end_date\n",
    "\n",
    "    Args:\n",
    "        latitudes (list): List of latitudes [1st_lat, 2nd_lat, ...]\n",
    "        longitudes (list): List of longitudes corresponding to the latitudes [1st_long, 2nd_long, ...]\n",
    "        start_date (str): String of starting date in the ISO 8601 format (i.e. YYYY-MM-DD)\n",
    "        end_date (str): String of starting date in the same format as start_date\n",
    "\n",
    "    Returns:\n",
    "        int: NOTSURE YET\n",
    "    \"\"\"\n",
    "\n",
    "    url = \"https://archive-api.open-meteo.com/v1/archive\"\n",
    "    # Setup the Open-Meteo API client with cache and retry on error\n",
    "    cache_session = requests_cache.CachedSession('.cache', expire_after = 3600)\n",
    "    retry_session = retry(cache_session, retries = 5, backoff_factor = 0.2)\n",
    "    openmeteo = openmeteo_requests.Client(session = retry_session)\n",
    "\n",
    "    latitudes = list(latitudes)\n",
    "    longitudes = list(longitudes)\n",
    "    \n",
    "    params = {\n",
    "\t\"latitude\": latitudes,\n",
    "\t\"longitude\": longitudes,\n",
    "\t\"start_date\": start_date,\n",
    "\t\"end_date\": end_date,\n",
    "\t\"hourly\": [\"temperature_2m\", \"rain\", \"relative_humidity_2m\"],\n",
    "\t\"timezone\": \"auto\"   \n",
    "    }\n",
    "\n",
    "    responses = openmeteo.weather_api(url, params=params)\n",
    "    return responses"
   ]
  },
  {
   "cell_type": "code",
   "execution_count": 3,
   "metadata": {},
   "outputs": [],
   "source": [
    "# Function for processing the responses\n",
    "def process_response(response):\n",
    "    # Hourly\n",
    "    hourly = response.Hourly()\n",
    "    hourly_index = pd.date_range(\n",
    "        start = pd.to_datetime(hourly.Time(), unit = \"s\", utc = True),\n",
    "        end = pd.to_datetime(hourly.TimeEnd(), unit = \"s\", utc = True),\n",
    "        freq = pd.Timedelta(seconds = hourly.Interval()),\n",
    "        inclusive = \"left\"\n",
    "        )\n",
    "    \n",
    "    hourly_temperature_2m = hourly.Variables(0).ValuesAsNumpy()\n",
    "    rain = hourly.Variables(1).ValuesAsNumpy()\n",
    "    relative_humidity_2m = hourly.Variables(2).ValuesAsNumpy()\n",
    "\n",
    "    # Turn response into df\n",
    "    hourly_data = {\n",
    "        \"Datetime\" : hourly_index,\n",
    "        \"Temperature\" : hourly_temperature_2m,\n",
    "        \"Rain\" : rain,\n",
    "        \"RelativeHumidity\" : relative_humidity_2m\n",
    "    }\n",
    "\n",
    "    hourly_df= pd.DataFrame(hourly_data)\n",
    "\n",
    "    # Aggregate for daily data\n",
    "    daily_df = hourly_df.groupby(pd.Grouper(key='Datetime', freq='D')).agg({\n",
    "        'Temperature': ['mean', 'max', 'min'],\n",
    "        'Rain': ['sum'],\n",
    "        'RelativeHumidity' :['mean', 'max', 'min']\n",
    "    })\n",
    "\n",
    "    daily_df.columns = [x + y.capitalize() for x,y in daily_df.columns.values]\n",
    "    daily_df = daily_df.reset_index()\n",
    "    \n",
    "    return daily_df"
   ]
  },
  {
   "cell_type": "code",
   "execution_count": 4,
   "metadata": {},
   "outputs": [],
   "source": [
    "def read_or_create_json(file_path, default_data):\n",
    "    # Check if the file exists\n",
    "    if os.path.exists(file_path):\n",
    "        # Read the existing JSON file\n",
    "        with open(file_path, 'r') as file:\n",
    "            data = json.load(file)\n",
    "    else:\n",
    "        # Create the JSON file with default data\n",
    "        with open(file_path, 'w') as file:\n",
    "            json.dump(default_data, file, indent=4)\n",
    "        data = default_data\n",
    "    \n",
    "    return data\n",
    "\n",
    "def update_json(file_path, update_data):\n",
    "    # Read or create the JSON file\n",
    "    data = read_or_create_json(file_path, {})\n",
    "\n",
    "    # Update the data with the new values\n",
    "    data.update(update_data)\n",
    "    \n",
    "    # Write the updated data back to the file\n",
    "    with open(file_path, 'w') as file:\n",
    "        json.dump(data, file, indent=4)"
   ]
  },
  {
   "cell_type": "code",
   "execution_count": 5,
   "metadata": {},
   "outputs": [],
   "source": [
    "def get_logger(logname):\n",
    "    # Create a log file in case we reach max api calls or random failure\n",
    "    logname = \"APIcalls.log\"\n",
    "\n",
    "    # If log file doesn't exist, create new one\n",
    "    if not os.path.exists(logname):\n",
    "        logger = logging.getLogger()\n",
    "        fhandler = logging.FileHandler(filename=logname, encoding=\"utf-8\")\n",
    "        formatter = logging.Formatter('%(asctime)s [%(levelname)s] > %(message)s')\n",
    "        fhandler.setFormatter(formatter)\n",
    "        logger.addHandler(fhandler)\n",
    "        logger.setLevel(logging.DEBUG)\n",
    "        print(\"Created log \" + logname)\n",
    "\n",
    "    # Else use the existing file\n",
    "    else:\n",
    "        # Configure the logger\n",
    "        logging.basicConfig(\n",
    "            filename= logname,    # Use the existing log file\n",
    "            filemode='a',          # Append mode, to add to the existing log file. 'w' for overwrite\n",
    "            format='%(asctime)s [%(levelname)s] - %(name)s:%(filename)s > %(message)s', # Format using %() for backward compatibility\n",
    "            level=logging.DEBUG     # Set the logging level as needed. DEBUG means log everything above DEBUG\n",
    "        )\n",
    "\n",
    "        # Create a logger object\n",
    "        logger = logging.getLogger()\n",
    "        print(\"Loaded log \" + logname)\n",
    "\n",
    "    return logger"
   ]
  },
  {
   "cell_type": "code",
   "execution_count": 6,
   "metadata": {},
   "outputs": [],
   "source": [
    "# insert(0, \"ClusterID\", )"
   ]
  },
  {
   "cell_type": "code",
   "execution_count": 7,
   "metadata": {},
   "outputs": [],
   "source": [
    "def collect_data(df):\n",
    "    pass"
   ]
  },
  {
   "cell_type": "markdown",
   "metadata": {},
   "source": [
    "## Collect Data"
   ]
  },
  {
   "cell_type": "code",
   "execution_count": 8,
   "metadata": {},
   "outputs": [],
   "source": [
    "df_cluster = pd.read_csv('../Datasets/Clusters.csv')"
   ]
  },
  {
   "cell_type": "code",
   "execution_count": 9,
   "metadata": {},
   "outputs": [],
   "source": [
    "# Store last iteration\n",
    "log_path  = 'data.json'\n",
    "default_log = {'iteration': 0}\n",
    "log = read_or_create_json(log_path, default_log)\n",
    "\n",
    "#update_json(file_path, update_data)"
   ]
  },
  {
   "cell_type": "code",
   "execution_count": 36,
   "metadata": {},
   "outputs": [],
   "source": [
    "responses = []"
   ]
  },
  {
   "cell_type": "code",
   "execution_count": 37,
   "metadata": {},
   "outputs": [
    {
     "name": "stdout",
     "output_type": "stream",
     "text": [
      "Loaded log APIcalls.log\n",
      "{'reason': 'Hourly API request limit exceeded. Please try again in the next hour.', 'error': True} Encountered at iteration 100\n"
     ]
    }
   ],
   "source": [
    "start = 0\n",
    "end = len(df_cluster)\n",
    "step = 100\n",
    "start_date = '2000-01-01'\n",
    "end_date = '2024-07-31'\n",
    "logger = get_logger(\"APIcalls.log\")\n",
    "\n",
    "for i in range(start, end, step):\n",
    "    try:\n",
    "        latitudes = df_cluster.Latitude[i:i+step]\n",
    "        longitudes = df_cluster.Longitude[i:i+step]\n",
    "        responses += fetch_weather(latitudes, longitudes, start_date, end_date)\n",
    "        logger.debug(f\"Responses fetched for rows {i}-{i+step}\")\n",
    "    \n",
    "    except Exception as err:\n",
    "        s = f\"{err} Encountered at iteration {i}\"\n",
    "        print(s)\n",
    "        logger.error(s)\n",
    "        log['iteration'] = i\n",
    "        # Load from a file\n",
    "        update_json(log_path, log)\n",
    "        break"
   ]
  },
  {
   "cell_type": "markdown",
   "metadata": {},
   "source": [
    "## Process Response and Add to Dataset"
   ]
  },
  {
   "cell_type": "code",
   "execution_count": 39,
   "metadata": {},
   "outputs": [
    {
     "data": {
      "text/plain": [
       "100"
      ]
     },
     "execution_count": 39,
     "metadata": {},
     "output_type": "execute_result"
    }
   ],
   "source": [
    "len(responses)"
   ]
  },
  {
   "cell_type": "code",
   "execution_count": 40,
   "metadata": {},
   "outputs": [],
   "source": [
    "clusterID = df_cluster.ClusterID"
   ]
  },
  {
   "cell_type": "code",
   "execution_count": 41,
   "metadata": {},
   "outputs": [],
   "source": [
    "# Create the file\n",
    "# parquet_path = '../Datasets/WeatherData.parquet'\n",
    "csv_path = \"../Datasets/WeatherData.csv\"\n",
    "if not os.path.exists(csv_path):\n",
    "    df_out = process_response(responses[0])\n",
    "    df_out.insert(0, 'ClusterID', clusterID[0])\n",
    "    df_out.to_csv(csv_path, index=False)\n"
   ]
  },
  {
   "cell_type": "code",
   "execution_count": 43,
   "metadata": {},
   "outputs": [
    {
     "name": "stdout",
     "output_type": "stream",
     "text": [
      "YIPPPEEE\n"
     ]
    }
   ],
   "source": [
    "start = 1\n",
    "end = 100\n",
    "clusterID = df_cluster.ClusterID\n",
    "\n",
    "for i in range(start, end):\n",
    "    res = responses[i]\n",
    "    df_out = process_response(res)\n",
    "    df_out.insert(0, 'ClusterID', clusterID[i])\n",
    "    # dd.from_pandas(df_out, npartitions=1).to_parquet(parquet_path, append=True,ignore_divisions = True)\n",
    "    df_out.to_csv(csv_path, mode='a', index=False, header=False)\n",
    "    print(i, end=\" \")\n",
    "print(\"YIPPPEEE\")"
   ]
  },
  {
   "cell_type": "code",
   "execution_count": 44,
   "metadata": {},
   "outputs": [],
   "source": [
    "df_weather = pd.read_csv(csv_path)"
   ]
  },
  {
   "cell_type": "code",
   "execution_count": 46,
   "metadata": {},
   "outputs": [
    {
     "data": {
      "text/plain": [
       "100"
      ]
     },
     "execution_count": 46,
     "metadata": {},
     "output_type": "execute_result"
    }
   ],
   "source": [
    "df_weather.ClusterID.nunique()"
   ]
  },
  {
   "cell_type": "code",
   "execution_count": null,
   "metadata": {},
   "outputs": [],
   "source": []
  }
 ],
 "metadata": {
  "kernelspec": {
   "display_name": "Python 3",
   "language": "python",
   "name": "python3"
  },
  "language_info": {
   "codemirror_mode": {
    "name": "ipython",
    "version": 3
   },
   "file_extension": ".py",
   "mimetype": "text/x-python",
   "name": "python",
   "nbconvert_exporter": "python",
   "pygments_lexer": "ipython3",
   "version": "3.12.4"
  }
 },
 "nbformat": 4,
 "nbformat_minor": 2
}
