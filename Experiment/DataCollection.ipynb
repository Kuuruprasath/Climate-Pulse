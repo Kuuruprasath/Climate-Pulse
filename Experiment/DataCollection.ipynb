{
 "cells": [
  {
   "cell_type": "code",
   "execution_count": 35,
   "metadata": {},
   "outputs": [
    {
     "name": "stderr",
     "output_type": "stream",
     "text": [
      "c:\\Users\\nadzm\\AppData\\Local\\Programs\\Python\\Python39\\lib\\site-packages\\dask\\dataframe\\_pyarrow_compat.py:21: UserWarning: You are using pyarrow version 11.0.0 which is known to be insecure. See https://www.cve.org/CVERecord?id=CVE-2023-47248 for further details. Please upgrade to pyarrow>=14.0.1 or install pyarrow-hotfix to patch your current version.\n",
      "  warnings.warn(\n"
     ]
    }
   ],
   "source": [
    "import os\n",
    "import sys\n",
    "import openmeteo_requests\n",
    "import requests_cache\n",
    "import pandas as pd\n",
    "import dask.dataframe as dd\n",
    "from retry_requests import retry\n",
    "from datetime import datetime, timedelta\n",
    "import logging\n",
    "# from tqdm.notebook import trange, tqdm"
   ]
  },
  {
   "cell_type": "markdown",
   "metadata": {},
   "source": [
    "## Define Functions"
   ]
  },
  {
   "cell_type": "code",
   "execution_count": 36,
   "metadata": {},
   "outputs": [],
   "source": [
    "# TODO: Add error handling\n",
    "def fetch_weather(latitudes, longitudes, start_date, end_date):\n",
    "    \"\"\"\n",
    "    Get weather data for (latitudes, longitudes) from start_date to end_date\n",
    "\n",
    "    Args:\n",
    "        latitudes (list): List of latitudes [1st_lat, 2nd_lat, ...]\n",
    "        longitudes (list): List of longitudes corresponding to the latitudes [1st_long, 2nd_long, ...]\n",
    "        start_date (str): String of starting date in the ISO 8601 format (i.e. YYYY-MM-DD)\n",
    "        end_date (str): String of starting date in the same format as start_date\n",
    "\n",
    "    Returns:\n",
    "        int: NOTSURE YET\n",
    "    \"\"\"\n",
    "\n",
    "    url = \"https://archive-api.open-meteo.com/v1/archive\"\n",
    "    # Setup the Open-Meteo API client with cache and retry on error\n",
    "    cache_session = requests_cache.CachedSession('.cache', expire_after = 3600)\n",
    "    retry_session = retry(cache_session, retries = 5, backoff_factor = 0.2)\n",
    "    openmeteo = openmeteo_requests.Client(session = retry_session)\n",
    "\n",
    "    latitudes = list(latitudes)\n",
    "    longitudes = list(longitudes)\n",
    "    \n",
    "    params = {\n",
    "\t\"latitude\": latitudes,\n",
    "\t\"longitude\": longitudes,\n",
    "\t\"start_date\": start_date,\n",
    "\t\"end_date\": end_date,\n",
    "\t\"hourly\": [\"temperature_2m\", \"rain\", \"relative_humidity_2m\"],\n",
    "\t\"timezone\": \"auto\"   \n",
    "    }\n",
    "\n",
    "    responses = openmeteo.weather_api(url, params=params)\n",
    "    return responses"
   ]
  },
  {
   "cell_type": "code",
   "execution_count": 37,
   "metadata": {},
   "outputs": [],
   "source": [
    "# Function for processing the responses\n",
    "def process_response(response):\n",
    "    # Hourly\n",
    "    hourly = response.Hourly()\n",
    "    hourly_index = pd.date_range(\n",
    "        start = pd.to_datetime(hourly.Time(), unit = \"s\", utc = True),\n",
    "        end = pd.to_datetime(hourly.TimeEnd(), unit = \"s\", utc = True),\n",
    "        freq = pd.Timedelta(seconds = hourly.Interval()),\n",
    "        inclusive = \"left\"\n",
    "        )\n",
    "    \n",
    "    hourly_temperature_2m = hourly.Variables(0).ValuesAsNumpy()\n",
    "    rain = hourly.Variables(1).ValuesAsNumpy()\n",
    "    relative_humidity_2m = hourly.Variables(2).ValuesAsNumpy()\n",
    "\n",
    "    # Turn response into df\n",
    "    hourly_data = {\n",
    "        \"Datetime\" : hourly_index,\n",
    "        \"Temperature\" : hourly_temperature_2m,\n",
    "        \"Rain\" : rain,\n",
    "        \"RelativeHumidity\" : relative_humidity_2m\n",
    "    }\n",
    "\n",
    "    hourly_df= pd.DataFrame(hourly_data)\n",
    "\n",
    "    # Aggregate for daily data\n",
    "    daily_df = hourly_df.groupby(pd.Grouper(key='Datetime', freq='D')).agg({\n",
    "        'Temperature': ['mean', 'max', 'min'],\n",
    "        'Rain': ['sum'],\n",
    "        'RelativeHumidity' :['mean', 'max', 'min']\n",
    "    })\n",
    "\n",
    "    daily_df.columns = [x + y.capitalize() for x,y in daily_df.columns.values]\n",
    "    daily_df = daily_df.reset_index()\n",
    "    \n",
    "    return daily_df"
   ]
  },
  {
   "cell_type": "code",
   "execution_count": 38,
   "metadata": {},
   "outputs": [],
   "source": [
    "def read_or_create_json(file_path, default_data):\n",
    "    # Check if the file exists\n",
    "    if os.path.exists(file_path):\n",
    "        # Read the existing JSON file\n",
    "        with open(file_path, 'r') as file:\n",
    "            data = json.load(file)\n",
    "    else:\n",
    "        # Create the JSON file with default data\n",
    "        with open(file_path, 'w') as file:\n",
    "            json.dump(default_data, file, indent=4)\n",
    "        data = default_data\n",
    "    \n",
    "    return data\n",
    "\n",
    "def update_json(file_path, update_data):\n",
    "    # Read or create the JSON file\n",
    "    data = read_or_create_json(file_path, {})\n",
    "\n",
    "    # Update the data with the new values\n",
    "    data.update(update_data)\n",
    "    \n",
    "    # Write the updated data back to the file\n",
    "    with open(file_path, 'w') as file:\n",
    "        json.dump(data, file, indent=4)"
   ]
  },
  {
   "cell_type": "code",
   "execution_count": 43,
   "metadata": {},
   "outputs": [],
   "source": [
    "def get_logger(logname):\n",
    "    # Create a log file in case we reach max api calls or random failure\n",
    "    logname = \"APIcalls.log\"\n",
    "\n",
    "    # If log file doesn't exist, create new one\n",
    "    if not os.path.exists(logname):\n",
    "        logger = logging.getLogger()\n",
    "        fhandler = logging.FileHandler(filename=logname, encoding=\"utf-8\")\n",
    "        formatter = logging.Formatter('%(asctime)s [%(levelname)s] > %(message)s')\n",
    "        fhandler.setFormatter(formatter)\n",
    "        logger.addHandler(fhandler)\n",
    "        logger.setLevel(logging.DEBUG)\n",
    "        print(\"Created log \" + logname)\n",
    "\n",
    "    # Else use the existing file\n",
    "    else:\n",
    "        # Configure the logger\n",
    "        logging.basicConfig(\n",
    "            filename= logname,    # Use the existing log file\n",
    "            filemode='a',          # Append mode, to add to the existing log file. 'w' for overwrite\n",
    "            format='%(asctime)s [%(levelname)s] - %(name)s:%(filename)s > %(message)s', # Format using %() for backward compatibility\n",
    "            level=logging.DEBUG     # Set the logging level as needed. DEBUG means log everything above DEBUG\n",
    "        )\n",
    "\n",
    "        # Create a logger object\n",
    "        logger = logging.getLogger()\n",
    "        print(\"Loaded log \" + logname)\n",
    "\n",
    "    return logger"
   ]
  },
  {
   "cell_type": "code",
   "execution_count": 5,
   "metadata": {},
   "outputs": [],
   "source": [
    "# insert(0, \"ClusterID\", )"
   ]
  },
  {
   "cell_type": "code",
   "execution_count": 8,
   "metadata": {},
   "outputs": [],
   "source": [
    "def collect_data(df):\n",
    "    pass"
   ]
  },
  {
   "cell_type": "markdown",
   "metadata": {},
   "source": [
    "## Collect and Store Responses Using Pickle"
   ]
  },
  {
   "cell_type": "code",
   "execution_count": 40,
   "metadata": {},
   "outputs": [],
   "source": [
    "df_cluster = pd.read_csv('../Datasets/Clusters.csv')"
   ]
  },
  {
   "cell_type": "code",
   "execution_count": 41,
   "metadata": {},
   "outputs": [],
   "source": [
    "# Store last iteration\n",
    "log_path  = 'data.json'\n",
    "default_log = {'iteration': 0}\n",
    "log = read_or_create_json(log_path, default_data)\n",
    "\n",
    "#update_json(file_path, update_data)"
   ]
  },
  {
   "cell_type": "code",
   "execution_count": 42,
   "metadata": {},
   "outputs": [],
   "source": [
    "responses = []"
   ]
  },
  {
   "cell_type": "code",
   "execution_count": 44,
   "metadata": {},
   "outputs": [
    {
     "name": "stdout",
     "output_type": "stream",
     "text": [
      "Loaded log APIcalls.log\n"
     ]
    },
    {
     "data": {
      "application/vnd.jupyter.widget-view+json": {
       "model_id": "3f6c20e0fbe143a48666b33919f32661",
       "version_major": 2,
       "version_minor": 0
      },
      "text/plain": [
       "  0%|          | 0/10 [00:00<?, ?it/s]"
      ]
     },
     "metadata": {},
     "output_type": "display_data"
    },
    {
     "name": "stdout",
     "output_type": "stream",
     "text": [
      "{'reason': 'Daily API request limit exceeded. Please try again tomorrow.', 'error': True} Encountered at iteration 0\n"
     ]
    }
   ],
   "source": [
    "start = log['iteration']\n",
    "end = len(df_cluster)\n",
    "end = 10 # Remove this later\n",
    "step = 1\n",
    "start_date = '2000-01-01'\n",
    "end_date = '2024-07-31'\n",
    "logger = get_logger(\"APIcalls.log\")\n",
    "\n",
    "for i in trange(start, end, step):\n",
    "    try:\n",
    "        latitudes = df_cluster.Latitude[i:i+step]\n",
    "        longitudes = df_cluster.Longitude[i:i+step]\n",
    "        responses += fetch_weather(latitudes, longitudes, start_date, end_date)\n",
    "        logger.debug(f\"Responses fetched for rows {i}-{i+step}\")\n",
    "    \n",
    "    except Exception as err:\n",
    "        s = f\"{err} Encountered at iteration {i}\"\n",
    "        print(s)\n",
    "        logger.error(s)\n",
    "        log['iteration'] = i\n",
    "        # Load from a file\n",
    "        update_json(log_path, log)\n",
    "        break"
   ]
  },
  {
   "cell_type": "markdown",
   "metadata": {},
   "source": [
    "## Process Response and Add to Dataset"
   ]
  },
  {
   "cell_type": "code",
   "execution_count": 46,
   "metadata": {},
   "outputs": [
    {
     "ename": "IndexError",
     "evalue": "list index out of range",
     "output_type": "error",
     "traceback": [
      "\u001b[1;31m---------------------------------------------------------------------------\u001b[0m",
      "\u001b[1;31mIndexError\u001b[0m                                Traceback (most recent call last)",
      "\u001b[1;32m~\\AppData\\Local\\Temp\\ipykernel_9580\\1238916302.py\u001b[0m in \u001b[0;36m<module>\u001b[1;34m\u001b[0m\n\u001b[0;32m      2\u001b[0m \u001b[0mparquet_path\u001b[0m \u001b[1;33m=\u001b[0m \u001b[1;34m'../Datasets/WeatherData.parquet'\u001b[0m\u001b[1;33m\u001b[0m\u001b[1;33m\u001b[0m\u001b[0m\n\u001b[0;32m      3\u001b[0m \u001b[1;32mif\u001b[0m \u001b[1;32mnot\u001b[0m \u001b[0mos\u001b[0m\u001b[1;33m.\u001b[0m\u001b[0mpath\u001b[0m\u001b[1;33m.\u001b[0m\u001b[0mexists\u001b[0m\u001b[1;33m(\u001b[0m\u001b[0mparquet_path\u001b[0m\u001b[1;33m)\u001b[0m\u001b[1;33m:\u001b[0m\u001b[1;33m\u001b[0m\u001b[1;33m\u001b[0m\u001b[0m\n\u001b[1;32m----> 4\u001b[1;33m     \u001b[0mdf_out\u001b[0m \u001b[1;33m=\u001b[0m \u001b[0mprocess_response\u001b[0m\u001b[1;33m(\u001b[0m\u001b[0mresponses\u001b[0m\u001b[1;33m[\u001b[0m\u001b[1;36m0\u001b[0m\u001b[1;33m]\u001b[0m\u001b[1;33m)\u001b[0m\u001b[1;33m\u001b[0m\u001b[1;33m\u001b[0m\u001b[0m\n\u001b[0m\u001b[0;32m      5\u001b[0m     \u001b[0mdf_out\u001b[0m\u001b[1;33m.\u001b[0m\u001b[0minsert\u001b[0m\u001b[1;33m(\u001b[0m\u001b[1;36m0\u001b[0m\u001b[1;33m,\u001b[0m \u001b[1;34m'ClusterID'\u001b[0m\u001b[1;33m,\u001b[0m \u001b[0mclusterID\u001b[0m\u001b[1;33m[\u001b[0m\u001b[1;36m0\u001b[0m\u001b[1;33m]\u001b[0m\u001b[1;33m)\u001b[0m\u001b[1;33m\u001b[0m\u001b[1;33m\u001b[0m\u001b[0m\n\u001b[0;32m      6\u001b[0m     \u001b[0mdd\u001b[0m\u001b[1;33m.\u001b[0m\u001b[0mfrom_pandas\u001b[0m\u001b[1;33m(\u001b[0m\u001b[0mdf_out\u001b[0m\u001b[1;33m,\u001b[0m \u001b[0mnpartitions\u001b[0m\u001b[1;33m=\u001b[0m\u001b[1;36m1\u001b[0m\u001b[1;33m)\u001b[0m\u001b[1;33m.\u001b[0m\u001b[0mto_parquet\u001b[0m\u001b[1;33m(\u001b[0m\u001b[0mparquet_path\u001b[0m\u001b[1;33m)\u001b[0m\u001b[1;33m\u001b[0m\u001b[1;33m\u001b[0m\u001b[0m\n",
      "\u001b[1;31mIndexError\u001b[0m: list index out of range"
     ]
    }
   ],
   "source": [
    "# Create the file\n",
    "parquet_path = '../Datasets/WeatherData.parquet'\n",
    "if not os.path.exists(parquet_path):\n",
    "    df_out = process_response(responses[0])\n",
    "    df_out.insert(0, 'ClusterID', clusterID[0])\n",
    "    dd.from_pandas(df_out, npartitions=1).to_parquet(parquet_path)"
   ]
  },
  {
   "cell_type": "code",
   "execution_count": null,
   "metadata": {},
   "outputs": [],
   "source": [
    "start = 1\n",
    "end = 10\n",
    "clusterID = df_cluster.ClusterID\n",
    "\n",
    "for i in range(start, end):\n",
    "    res = responses[i]\n",
    "    df_out = process_response(res)\n",
    "    df_out.insert(0, 'ClusterID', clusterID[i])\n",
    "    dd.from_pandas(df_out, npartitions=1).to_parquet(parquet_path, append=True)\n",
    "    print(i)\n",
    "print(\"YIPPPEEE\")"
   ]
  }
 ],
 "metadata": {
  "kernelspec": {
   "display_name": "Python 3",
   "language": "python",
   "name": "python3"
  },
  "language_info": {
   "codemirror_mode": {
    "name": "ipython",
    "version": 3
   },
   "file_extension": ".py",
   "mimetype": "text/x-python",
   "name": "python",
   "nbconvert_exporter": "python",
   "pygments_lexer": "ipython3",
   "version": "3.9.0"
  }
 },
 "nbformat": 4,
 "nbformat_minor": 2
}
