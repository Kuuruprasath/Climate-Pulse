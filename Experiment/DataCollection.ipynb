{
 "cells": [
  {
   "cell_type": "code",
   "execution_count": 3,
   "metadata": {},
   "outputs": [],
   "source": [
    "import os\n",
    "import sys\n",
    "import openmeteo_requests\n",
    "import requests_cache\n",
    "import pandas as pd\n",
    "import dask.dataframe as dd\n",
    "from retry_requests import retry\n",
    "from datetime import datetime, timedelta\n",
    "import logging\n",
    "import json\n",
    "from tqdm.notebook import trange, tqdm\n",
    "import pyarrow"
   ]
  },
  {
   "cell_type": "markdown",
   "metadata": {},
   "source": [
    "## Define Functions"
   ]
  },
  {
   "cell_type": "code",
   "execution_count": 4,
   "metadata": {},
   "outputs": [],
   "source": [
    "# TODO: Add error handling\n",
    "def fetch_weather(latitudes, longitudes, start_date, end_date):\n",
    "    \"\"\"\n",
    "    Get weather data for (latitudes, longitudes) from start_date to end_date\n",
    "\n",
    "    Args:\n",
    "        latitudes (list): List of latitudes [1st_lat, 2nd_lat, ...]\n",
    "        longitudes (list): List of longitudes corresponding to the latitudes [1st_long, 2nd_long, ...]\n",
    "        start_date (str): String of starting date in the ISO 8601 format (i.e. YYYY-MM-DD)\n",
    "        end_date (str): String of starting date in the same format as start_date\n",
    "\n",
    "    Returns:\n",
    "        int: NOTSURE YET\n",
    "    \"\"\"\n",
    "\n",
    "    url = \"https://archive-api.open-meteo.com/v1/archive\"\n",
    "    # Setup the Open-Meteo API client with cache and retry on error\n",
    "    cache_session = requests_cache.CachedSession('.cache', expire_after = 3600)\n",
    "    retry_session = retry(cache_session, retries = 5, backoff_factor = 0.2)\n",
    "    openmeteo = openmeteo_requests.Client(session = retry_session)\n",
    "\n",
    "    latitudes = list(latitudes)\n",
    "    longitudes = list(longitudes)\n",
    "    \n",
    "    params = {\n",
    "\t\"latitude\": latitudes,\n",
    "\t\"longitude\": longitudes,\n",
    "\t\"start_date\": start_date,\n",
    "\t\"end_date\": end_date,\n",
    "\t\"hourly\": [\"temperature_2m\", \"rain\", \"relative_humidity_2m\"],\n",
    "\t\"timezone\": \"auto\"   \n",
    "    }\n",
    "\n",
    "    responses = openmeteo.weather_api(url, params=params)\n",
    "    return responses"
   ]
  },
  {
   "cell_type": "code",
   "execution_count": 5,
   "metadata": {},
   "outputs": [],
   "source": [
    "# Function for processing the responses\n",
    "def process_response(response):\n",
    "    # Hourly\n",
    "    hourly = response.Hourly()\n",
    "    hourly_index = pd.date_range(\n",
    "        start = pd.to_datetime(hourly.Time(), unit = \"s\", utc = True),\n",
    "        end = pd.to_datetime(hourly.TimeEnd(), unit = \"s\", utc = True),\n",
    "        freq = pd.Timedelta(seconds = hourly.Interval()),\n",
    "        inclusive = \"left\"\n",
    "        )\n",
    "    \n",
    "    hourly_temperature_2m = hourly.Variables(0).ValuesAsNumpy()\n",
    "    rain = hourly.Variables(1).ValuesAsNumpy()\n",
    "    relative_humidity_2m = hourly.Variables(2).ValuesAsNumpy()\n",
    "\n",
    "    # Turn response into df\n",
    "    hourly_data = {\n",
    "        \"Datetime\" : hourly_index,\n",
    "        \"Temperature\" : hourly_temperature_2m,\n",
    "        \"Rain\" : rain,\n",
    "        \"RelativeHumidity\" : relative_humidity_2m\n",
    "    }\n",
    "\n",
    "    hourly_df= pd.DataFrame(hourly_data)\n",
    "\n",
    "    # Aggregate for daily data\n",
    "    daily_df = hourly_df.groupby(pd.Grouper(key='Datetime', freq='D')).agg({\n",
    "        'Temperature': ['mean', 'max', 'min'],\n",
    "        'Rain': ['sum'],\n",
    "        'RelativeHumidity' :['mean', 'max', 'min']\n",
    "    })\n",
    "\n",
    "    daily_df.columns = [x + y.capitalize() for x,y in daily_df.columns.values]\n",
    "    daily_df = daily_df.reset_index()\n",
    "    \n",
    "    return daily_df"
   ]
  },
  {
   "cell_type": "code",
   "execution_count": 6,
   "metadata": {},
   "outputs": [],
   "source": [
    "def read_or_create_json(file_path, default_data):\n",
    "    # Check if the file exists\n",
    "    if os.path.exists(file_path):\n",
    "        # Read the existing JSON file\n",
    "        with open(file_path, 'r') as file:\n",
    "            data = json.load(file)\n",
    "    else:\n",
    "        # Create the JSON file with default data\n",
    "        with open(file_path, 'w') as file:\n",
    "            json.dump(default_data, file, indent=4)\n",
    "        data = default_data\n",
    "    \n",
    "    return data\n",
    "\n",
    "def update_json(file_path, update_data):\n",
    "    # Read or create the JSON file\n",
    "    data = read_or_create_json(file_path, {})\n",
    "\n",
    "    # Update the data with the new values\n",
    "    data.update(update_data)\n",
    "    \n",
    "    # Write the updated data back to the file\n",
    "    with open(file_path, 'w') as file:\n",
    "        json.dump(data, file, indent=4)"
   ]
  },
  {
   "cell_type": "code",
   "execution_count": 7,
   "metadata": {},
   "outputs": [],
   "source": [
    "def get_logger(logname):\n",
    "    # Create a log file in case we reach max api calls or random failure\n",
    "    logname = \"APIcalls.log\"\n",
    "\n",
    "    # If log file doesn't exist, create new one\n",
    "    if not os.path.exists(logname):\n",
    "        logger = logging.getLogger()\n",
    "        fhandler = logging.FileHandler(filename=logname, encoding=\"utf-8\")\n",
    "        formatter = logging.Formatter('%(asctime)s [%(levelname)s] > %(message)s')\n",
    "        fhandler.setFormatter(formatter)\n",
    "        logger.addHandler(fhandler)\n",
    "        logger.setLevel(logging.DEBUG)\n",
    "        print(\"Created log \" + logname)\n",
    "\n",
    "    # Else use the existing file\n",
    "    else:\n",
    "        # Configure the logger\n",
    "        logging.basicConfig(\n",
    "            filename= logname,    # Use the existing log file\n",
    "            filemode='a',          # Append mode, to add to the existing log file. 'w' for overwrite\n",
    "            format='%(asctime)s [%(levelname)s] - %(name)s:%(filename)s > %(message)s', # Format using %() for backward compatibility\n",
    "            level=logging.DEBUG     # Set the logging level as needed. DEBUG means log everything above DEBUG\n",
    "        )\n",
    "\n",
    "        # Create a logger object\n",
    "        logger = logging.getLogger()\n",
    "        print(\"Loaded log \" + logname)\n",
    "\n",
    "    return logger"
   ]
  },
  {
   "cell_type": "code",
   "execution_count": 5,
   "metadata": {},
   "outputs": [],
   "source": [
    "# insert(0, \"ClusterID\", )"
   ]
  },
  {
   "cell_type": "code",
   "execution_count": 8,
   "metadata": {},
   "outputs": [],
   "source": [
    "def collect_data(df):\n",
    "    pass"
   ]
  },
  {
   "cell_type": "markdown",
   "metadata": {},
   "source": [
    "## Collect and Store Responses Using Pickle"
   ]
  },
  {
   "cell_type": "code",
   "execution_count": 9,
   "metadata": {},
   "outputs": [],
   "source": [
    "df_cluster = pd.read_csv('../Datasets/Clusters.csv')"
   ]
  },
  {
   "cell_type": "code",
   "execution_count": 14,
   "metadata": {},
   "outputs": [],
   "source": [
    "# Store last iteration\n",
    "log_path  = 'data.json'\n",
    "default_log = {'iteration': 0}\n",
    "log = read_or_create_json(log_path, default_log)\n",
    "\n",
    "#update_json(file_path, update_data)"
   ]
  },
  {
   "cell_type": "code",
   "execution_count": 15,
   "metadata": {},
   "outputs": [],
   "source": [
    "responses = []"
   ]
  },
  {
   "cell_type": "code",
   "execution_count": 20,
   "metadata": {},
   "outputs": [
    {
     "name": "stdout",
     "output_type": "stream",
     "text": [
      "Loaded log APIcalls.log\n",
      "{'reason': 'Minutely API request limit exceeded. Please try again in one minute.', 'error': True} Encountered at iteration 9\n"
     ]
    }
   ],
   "source": [
    "start = log['iteration']\n",
    "end = len(df_cluster)\n",
    "end = 10 # Remove this later\n",
    "step = 1\n",
    "start_date = '2000-01-01'\n",
    "end_date = '2024-07-31'\n",
    "logger = get_logger(\"APIcalls.log\")\n",
    "\n",
    "for i in range(start, end, step):\n",
    "    try:\n",
    "        latitudes = df_cluster.Latitude[i:i+step]\n",
    "        longitudes = df_cluster.Longitude[i:i+step]\n",
    "        responses += fetch_weather(latitudes, longitudes, start_date, end_date)\n",
    "        logger.debug(f\"Responses fetched for rows {i}-{i+step}\")\n",
    "    \n",
    "    except Exception as err:\n",
    "        s = f\"{err} Encountered at iteration {i}\"\n",
    "        print(s)\n",
    "        logger.error(s)\n",
    "        log['iteration'] = i\n",
    "        # Load from a file\n",
    "        update_json(log_path, log)\n",
    "        break"
   ]
  },
  {
   "cell_type": "markdown",
   "metadata": {},
   "source": [
    "## Process Response and Add to Dataset"
   ]
  },
  {
   "cell_type": "code",
   "execution_count": 21,
   "metadata": {},
   "outputs": [
    {
     "data": {
      "text/plain": [
       "[<openmeteo_sdk.WeatherApiResponse.WeatherApiResponse at 0x1a733ca10c0>,\n",
       " <openmeteo_sdk.WeatherApiResponse.WeatherApiResponse at 0x1a733ca1150>,\n",
       " <openmeteo_sdk.WeatherApiResponse.WeatherApiResponse at 0x1a733c70f40>,\n",
       " <openmeteo_sdk.WeatherApiResponse.WeatherApiResponse at 0x1a733ca12d0>,\n",
       " <openmeteo_sdk.WeatherApiResponse.WeatherApiResponse at 0x1a7336beda0>,\n",
       " <openmeteo_sdk.WeatherApiResponse.WeatherApiResponse at 0x1a7336bc6a0>,\n",
       " <openmeteo_sdk.WeatherApiResponse.WeatherApiResponse at 0x1a733ca0f70>,\n",
       " <openmeteo_sdk.WeatherApiResponse.WeatherApiResponse at 0x1a733cdfd60>,\n",
       " <openmeteo_sdk.WeatherApiResponse.WeatherApiResponse at 0x1a733ca3940>]"
      ]
     },
     "execution_count": 21,
     "metadata": {},
     "output_type": "execute_result"
    }
   ],
   "source": [
    "responses"
   ]
  },
  {
   "cell_type": "code",
   "execution_count": 23,
   "metadata": {},
   "outputs": [],
   "source": [
    "clusterID = df_cluster.ClusterID"
   ]
  },
  {
   "cell_type": "code",
   "execution_count": 30,
   "metadata": {},
   "outputs": [
    {
     "ename": "ImportError",
     "evalue": "pyarrow>=10.0.1 is required for PyArrow backed StringArray.",
     "output_type": "error",
     "traceback": [
      "\u001b[1;31m---------------------------------------------------------------------------\u001b[0m",
      "\u001b[1;31mImportError\u001b[0m                               Traceback (most recent call last)",
      "Cell \u001b[1;32mIn[30], line 6\u001b[0m\n\u001b[0;32m      4\u001b[0m df_out \u001b[38;5;241m=\u001b[39m process_response(responses[\u001b[38;5;241m0\u001b[39m])\n\u001b[0;32m      5\u001b[0m df_out\u001b[38;5;241m.\u001b[39minsert(\u001b[38;5;241m0\u001b[39m, \u001b[38;5;124m'\u001b[39m\u001b[38;5;124mClusterID\u001b[39m\u001b[38;5;124m'\u001b[39m, clusterID[\u001b[38;5;241m0\u001b[39m])\n\u001b[1;32m----> 6\u001b[0m \u001b[43mdd\u001b[49m\u001b[38;5;241;43m.\u001b[39;49m\u001b[43mfrom_pandas\u001b[49m\u001b[43m(\u001b[49m\u001b[43mdf_out\u001b[49m\u001b[43m,\u001b[49m\u001b[43m \u001b[49m\u001b[43mnpartitions\u001b[49m\u001b[38;5;241;43m=\u001b[39;49m\u001b[38;5;241;43m1\u001b[39;49m\u001b[43m)\u001b[49m\u001b[38;5;241m.\u001b[39mto_parquet(parquet_path)\n",
      "File \u001b[1;32m~\\AppData\\Local\\Packages\\PythonSoftwareFoundation.Python.3.12_qbz5n2kfra8p0\\LocalCache\\local-packages\\Python312\\site-packages\\dask_expr\\_collection.py:4878\u001b[0m, in \u001b[0;36mfrom_pandas\u001b[1;34m(data, npartitions, sort, chunksize)\u001b[0m\n\u001b[0;32m   4872\u001b[0m     \u001b[38;5;28;01mraise\u001b[39;00m \u001b[38;5;167;01mTypeError\u001b[39;00m(\n\u001b[0;32m   4873\u001b[0m         \u001b[38;5;124m\"\u001b[39m\u001b[38;5;124mPlease provide chunksize as an int, or possibly as None if you specify npartitions.\u001b[39m\u001b[38;5;124m\"\u001b[39m\n\u001b[0;32m   4874\u001b[0m     )\n\u001b[0;32m   4876\u001b[0m \u001b[38;5;28;01mfrom\u001b[39;00m \u001b[38;5;21;01mdask_expr\u001b[39;00m\u001b[38;5;21;01m.\u001b[39;00m\u001b[38;5;21;01mio\u001b[39;00m\u001b[38;5;21;01m.\u001b[39;00m\u001b[38;5;21;01mio\u001b[39;00m \u001b[38;5;28;01mimport\u001b[39;00m FromPandas\n\u001b[1;32m-> 4878\u001b[0m \u001b[38;5;28;01mreturn\u001b[39;00m \u001b[43mnew_collection\u001b[49m\u001b[43m(\u001b[49m\n\u001b[0;32m   4879\u001b[0m \u001b[43m    \u001b[49m\u001b[43mFromPandas\u001b[49m\u001b[43m(\u001b[49m\n\u001b[0;32m   4880\u001b[0m \u001b[43m        \u001b[49m\u001b[43m_BackendData\u001b[49m\u001b[43m(\u001b[49m\u001b[43mdata\u001b[49m\u001b[38;5;241;43m.\u001b[39;49m\u001b[43mcopy\u001b[49m\u001b[43m(\u001b[49m\u001b[43m)\u001b[49m\u001b[43m)\u001b[49m\u001b[43m,\u001b[49m\n\u001b[0;32m   4881\u001b[0m \u001b[43m        \u001b[49m\u001b[43mnpartitions\u001b[49m\u001b[38;5;241;43m=\u001b[39;49m\u001b[43mnpartitions\u001b[49m\u001b[43m,\u001b[49m\n\u001b[0;32m   4882\u001b[0m \u001b[43m        \u001b[49m\u001b[43msort\u001b[49m\u001b[38;5;241;43m=\u001b[39;49m\u001b[43msort\u001b[49m\u001b[43m,\u001b[49m\n\u001b[0;32m   4883\u001b[0m \u001b[43m        \u001b[49m\u001b[43mchunksize\u001b[49m\u001b[38;5;241;43m=\u001b[39;49m\u001b[43mchunksize\u001b[49m\u001b[43m,\u001b[49m\n\u001b[0;32m   4884\u001b[0m \u001b[43m        \u001b[49m\u001b[43mpyarrow_strings_enabled\u001b[49m\u001b[38;5;241;43m=\u001b[39;49m\u001b[43mpyarrow_strings_enabled\u001b[49m\u001b[43m(\u001b[49m\u001b[43m)\u001b[49m\u001b[43m,\u001b[49m\n\u001b[0;32m   4885\u001b[0m \u001b[43m    \u001b[49m\u001b[43m)\u001b[49m\n\u001b[0;32m   4886\u001b[0m \u001b[43m\u001b[49m\u001b[43m)\u001b[49m\n",
      "File \u001b[1;32m~\\AppData\\Local\\Packages\\PythonSoftwareFoundation.Python.3.12_qbz5n2kfra8p0\\LocalCache\\local-packages\\Python312\\site-packages\\dask_expr\\_collection.py:4779\u001b[0m, in \u001b[0;36mnew_collection\u001b[1;34m(expr)\u001b[0m\n\u001b[0;32m   4777\u001b[0m \u001b[38;5;28;01mdef\u001b[39;00m \u001b[38;5;21mnew_collection\u001b[39m(expr):\n\u001b[0;32m   4778\u001b[0m \u001b[38;5;250m    \u001b[39m\u001b[38;5;124;03m\"\"\"Create new collection from an expr\"\"\"\u001b[39;00m\n\u001b[1;32m-> 4779\u001b[0m     meta \u001b[38;5;241m=\u001b[39m \u001b[43mexpr\u001b[49m\u001b[38;5;241;43m.\u001b[39;49m\u001b[43m_meta\u001b[49m\n\u001b[0;32m   4780\u001b[0m     expr\u001b[38;5;241m.\u001b[39m_name  \u001b[38;5;66;03m# Ensure backend is imported\u001b[39;00m\n\u001b[0;32m   4781\u001b[0m     \u001b[38;5;28;01mreturn\u001b[39;00m get_collection_type(meta)(expr)\n",
      "File \u001b[1;32mC:\\Program Files\\WindowsApps\\PythonSoftwareFoundation.Python.3.12_3.12.1264.0_x64__qbz5n2kfra8p0\\Lib\\functools.py:995\u001b[0m, in \u001b[0;36mcached_property.__get__\u001b[1;34m(self, instance, owner)\u001b[0m\n\u001b[0;32m    993\u001b[0m val \u001b[38;5;241m=\u001b[39m cache\u001b[38;5;241m.\u001b[39mget(\u001b[38;5;28mself\u001b[39m\u001b[38;5;241m.\u001b[39mattrname, _NOT_FOUND)\n\u001b[0;32m    994\u001b[0m \u001b[38;5;28;01mif\u001b[39;00m val \u001b[38;5;129;01mis\u001b[39;00m _NOT_FOUND:\n\u001b[1;32m--> 995\u001b[0m     val \u001b[38;5;241m=\u001b[39m \u001b[38;5;28;43mself\u001b[39;49m\u001b[38;5;241;43m.\u001b[39;49m\u001b[43mfunc\u001b[49m\u001b[43m(\u001b[49m\u001b[43minstance\u001b[49m\u001b[43m)\u001b[49m\n\u001b[0;32m    996\u001b[0m     \u001b[38;5;28;01mtry\u001b[39;00m:\n\u001b[0;32m    997\u001b[0m         cache[\u001b[38;5;28mself\u001b[39m\u001b[38;5;241m.\u001b[39mattrname] \u001b[38;5;241m=\u001b[39m val\n",
      "File \u001b[1;32m~\\AppData\\Local\\Packages\\PythonSoftwareFoundation.Python.3.12_qbz5n2kfra8p0\\LocalCache\\local-packages\\Python312\\site-packages\\dask_expr\\io\\io.py:402\u001b[0m, in \u001b[0;36mFromPandas._meta\u001b[1;34m(self)\u001b[0m\n\u001b[0;32m    399\u001b[0m \u001b[38;5;129m@functools\u001b[39m\u001b[38;5;241m.\u001b[39mcached_property\n\u001b[0;32m    400\u001b[0m \u001b[38;5;28;01mdef\u001b[39;00m \u001b[38;5;21m_meta\u001b[39m(\u001b[38;5;28mself\u001b[39m):\n\u001b[0;32m    401\u001b[0m     \u001b[38;5;28;01mif\u001b[39;00m \u001b[38;5;28mself\u001b[39m\u001b[38;5;241m.\u001b[39mpyarrow_strings_enabled:\n\u001b[1;32m--> 402\u001b[0m         meta \u001b[38;5;241m=\u001b[39m make_meta(\u001b[43mto_pyarrow_string\u001b[49m\u001b[43m(\u001b[49m\u001b[38;5;28;43mself\u001b[39;49m\u001b[38;5;241;43m.\u001b[39;49m\u001b[43mframe\u001b[49m\u001b[38;5;241;43m.\u001b[39;49m\u001b[43mhead\u001b[49m\u001b[43m(\u001b[49m\u001b[38;5;241;43m1\u001b[39;49m\u001b[43m)\u001b[49m\u001b[43m)\u001b[49m)\n\u001b[0;32m    403\u001b[0m     \u001b[38;5;28;01melse\u001b[39;00m:\n\u001b[0;32m    404\u001b[0m         meta \u001b[38;5;241m=\u001b[39m \u001b[38;5;28mself\u001b[39m\u001b[38;5;241m.\u001b[39mframe\u001b[38;5;241m.\u001b[39mhead(\u001b[38;5;241m0\u001b[39m)\n",
      "File \u001b[1;32m~\\AppData\\Local\\Packages\\PythonSoftwareFoundation.Python.3.12_qbz5n2kfra8p0\\LocalCache\\local-packages\\Python312\\site-packages\\dask\\dataframe\\_pyarrow.py:65\u001b[0m, in \u001b[0;36m_to_string_dtype\u001b[1;34m(df, dtype_check, index_check, string_dtype)\u001b[0m\n\u001b[0;32m     63\u001b[0m \u001b[38;5;66;03m# Guards against importing `pyarrow` at the module level (where it may not be installed)\u001b[39;00m\n\u001b[0;32m     64\u001b[0m \u001b[38;5;28;01mif\u001b[39;00m string_dtype \u001b[38;5;241m==\u001b[39m \u001b[38;5;124m\"\u001b[39m\u001b[38;5;124mpyarrow\u001b[39m\u001b[38;5;124m\"\u001b[39m:\n\u001b[1;32m---> 65\u001b[0m     string_dtype \u001b[38;5;241m=\u001b[39m \u001b[43mpd\u001b[49m\u001b[38;5;241;43m.\u001b[39;49m\u001b[43mStringDtype\u001b[49m\u001b[43m(\u001b[49m\u001b[38;5;124;43m\"\u001b[39;49m\u001b[38;5;124;43mpyarrow\u001b[39;49m\u001b[38;5;124;43m\"\u001b[39;49m\u001b[43m)\u001b[49m\n\u001b[0;32m     67\u001b[0m \u001b[38;5;66;03m# Possibly convert DataFrame/Series/Index to `string[pyarrow]`\u001b[39;00m\n\u001b[0;32m     68\u001b[0m \u001b[38;5;28;01mif\u001b[39;00m is_dataframe_like(df):\n",
      "File \u001b[1;32m~\\AppData\\Local\\Packages\\PythonSoftwareFoundation.Python.3.12_qbz5n2kfra8p0\\LocalCache\\local-packages\\Python312\\site-packages\\pandas\\core\\arrays\\string_.py:131\u001b[0m, in \u001b[0;36mStringDtype.__init__\u001b[1;34m(self, storage)\u001b[0m\n\u001b[0;32m    126\u001b[0m     \u001b[38;5;28;01mraise\u001b[39;00m \u001b[38;5;167;01mValueError\u001b[39;00m(\n\u001b[0;32m    127\u001b[0m         \u001b[38;5;124mf\u001b[39m\u001b[38;5;124m\"\u001b[39m\u001b[38;5;124mStorage must be \u001b[39m\u001b[38;5;124m'\u001b[39m\u001b[38;5;124mpython\u001b[39m\u001b[38;5;124m'\u001b[39m\u001b[38;5;124m, \u001b[39m\u001b[38;5;124m'\u001b[39m\u001b[38;5;124mpyarrow\u001b[39m\u001b[38;5;124m'\u001b[39m\u001b[38;5;124m or \u001b[39m\u001b[38;5;124m'\u001b[39m\u001b[38;5;124mpyarrow_numpy\u001b[39m\u001b[38;5;124m'\u001b[39m\u001b[38;5;124m. \u001b[39m\u001b[38;5;124m\"\u001b[39m\n\u001b[0;32m    128\u001b[0m         \u001b[38;5;124mf\u001b[39m\u001b[38;5;124m\"\u001b[39m\u001b[38;5;124mGot \u001b[39m\u001b[38;5;132;01m{\u001b[39;00mstorage\u001b[38;5;132;01m}\u001b[39;00m\u001b[38;5;124m instead.\u001b[39m\u001b[38;5;124m\"\u001b[39m\n\u001b[0;32m    129\u001b[0m     )\n\u001b[0;32m    130\u001b[0m \u001b[38;5;28;01mif\u001b[39;00m storage \u001b[38;5;129;01min\u001b[39;00m (\u001b[38;5;124m\"\u001b[39m\u001b[38;5;124mpyarrow\u001b[39m\u001b[38;5;124m\"\u001b[39m, \u001b[38;5;124m\"\u001b[39m\u001b[38;5;124mpyarrow_numpy\u001b[39m\u001b[38;5;124m\"\u001b[39m) \u001b[38;5;129;01mand\u001b[39;00m pa_version_under10p1:\n\u001b[1;32m--> 131\u001b[0m     \u001b[38;5;28;01mraise\u001b[39;00m \u001b[38;5;167;01mImportError\u001b[39;00m(\n\u001b[0;32m    132\u001b[0m         \u001b[38;5;124m\"\u001b[39m\u001b[38;5;124mpyarrow>=10.0.1 is required for PyArrow backed StringArray.\u001b[39m\u001b[38;5;124m\"\u001b[39m\n\u001b[0;32m    133\u001b[0m     )\n\u001b[0;32m    134\u001b[0m \u001b[38;5;28mself\u001b[39m\u001b[38;5;241m.\u001b[39mstorage \u001b[38;5;241m=\u001b[39m storage\n",
      "\u001b[1;31mImportError\u001b[0m: pyarrow>=10.0.1 is required for PyArrow backed StringArray."
     ]
    }
   ],
   "source": [
    "# Create the file\n",
    "parquet_path = '../Datasets/WeatherData.parquet'\n",
    "if not os.path.exists(parquet_path):\n",
    "    df_out = process_response(responses[0])\n",
    "    df_out.insert(0, 'ClusterID', clusterID[0])\n",
    "    dd.from_pandas(df_out, npartitions=1).to_parquet(parquet_path)"
   ]
  },
  {
   "cell_type": "code",
   "execution_count": 31,
   "metadata": {},
   "outputs": [
    {
     "data": {
      "text/plain": [
       "'17.0.0'"
      ]
     },
     "execution_count": 31,
     "metadata": {},
     "output_type": "execute_result"
    }
   ],
   "source": [
    "import pyarrow\n",
    "pyarrow.__version__"
   ]
  },
  {
   "cell_type": "code",
   "execution_count": null,
   "metadata": {},
   "outputs": [],
   "source": [
    "start = 1\n",
    "end = 10\n",
    "clusterID = df_cluster.ClusterID\n",
    "\n",
    "for i in range(start, end):\n",
    "    res = responses[i]\n",
    "    df_out = process_response(res)\n",
    "    df_out.insert(0, 'ClusterID', clusterID[i])\n",
    "    dd.from_pandas(df_out, npartitions=1).to_parquet(parquet_path, append=True)\n",
    "    print(i)\n",
    "print(\"YIPPPEEE\")"
   ]
  }
 ],
 "metadata": {
  "kernelspec": {
   "display_name": "Python 3",
   "language": "python",
   "name": "python3"
  },
  "language_info": {
   "codemirror_mode": {
    "name": "ipython",
    "version": 3
   },
   "file_extension": ".py",
   "mimetype": "text/x-python",
   "name": "python",
   "nbconvert_exporter": "python",
   "pygments_lexer": "ipython3",
   "version": "3.12.4"
  }
 },
 "nbformat": 4,
 "nbformat_minor": 2
}
