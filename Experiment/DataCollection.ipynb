{
 "cells": [
  {
   "cell_type": "code",
   "execution_count": 1,
   "metadata": {},
   "outputs": [],
   "source": [
    "import openmeteo_requests\n",
    "import requests_cache\n",
    "import pandas as pd\n",
    "from retry_requests import retry\n",
    "from datetime import datetime, timedelta\n",
    "import os\n",
    "import sys\n",
    "import pickle\n",
    "import logging\n",
    "from tqdm.notebook import trange, tqdm\n"
   ]
  },
  {
   "cell_type": "markdown",
   "metadata": {},
   "source": [
    "## Define Functions"
   ]
  },
  {
   "cell_type": "code",
   "execution_count": 2,
   "metadata": {},
   "outputs": [],
   "source": [
    "# TODO: Add error handling\n",
    "def fetch_weather(latitudes, longitudes, start_date, end_date):\n",
    "    \"\"\"\n",
    "    Get weather data for (latitudes, longitudes) from start_date to end_date\n",
    "\n",
    "    Args:\n",
    "        latitudes (list): List of latitudes [1st_lat, 2nd_lat, ...]\n",
    "        longitudes (list): List of longitudes corresponding to the latitudes [1st_long, 2nd_long, ...]\n",
    "        start_date (str): String of starting date in the ISO 8601 format (i.e. YYYY-MM-DD)\n",
    "        end_date (str): String of starting date in the same format as start_date\n",
    "\n",
    "    Returns:\n",
    "        int: NOTSURE YET\n",
    "    \"\"\"\n",
    "\n",
    "    url = \"https://archive-api.open-meteo.com/v1/archive\"\n",
    "    # Setup the Open-Meteo API client with cache and retry on error\n",
    "    cache_session = requests_cache.CachedSession('.cache', expire_after = 3600)\n",
    "    retry_session = retry(cache_session, retries = 5, backoff_factor = 0.2)\n",
    "    openmeteo = openmeteo_requests.Client(session = retry_session)\n",
    "\n",
    "    latitudes = list(latitudes)\n",
    "    longitudes = list(longitudes)\n",
    "    \n",
    "    params = {\n",
    "\t\"latitude\": latitudes,\n",
    "\t\"longitude\": longitudes,\n",
    "\t\"start_date\": start_date,\n",
    "\t\"end_date\": end_date,\n",
    "\t\"hourly\": [\"temperature_2m\", \"rain\", \"relative_humidity_2m\"],\n",
    "\t\"timezone\": \"auto\"   \n",
    "    }\n",
    "\n",
    "    responses = openmeteo.weather_api(url, params=params)\n",
    "    return responses"
   ]
  },
  {
   "cell_type": "code",
   "execution_count": 5,
   "metadata": {},
   "outputs": [],
   "source": [
    "# Function for processing the responses\n",
    "def process_response(response):\n",
    "    # Hourly\n",
    "    hourly = response.Hourly()\n",
    "    hourly_index = pd.date_range(\n",
    "        start = pd.to_datetime(hourly.Time(), unit = \"s\", utc = True),\n",
    "        end = pd.to_datetime(hourly.TimeEnd(), unit = \"s\", utc = True),\n",
    "        freq = pd.Timedelta(seconds = hourly.Interval()),\n",
    "        inclusive = \"left\"\n",
    "        )\n",
    "    \n",
    "    hourly_temperature_2m = hourly.Variables(0).ValuesAsNumpy()\n",
    "    rain = hourly.Variables(1).ValuesAsNumpy()\n",
    "    relative_humidity_2m = hourly.Variables(2).ValuesAsNumpy()\n",
    "\n",
    "    # Turn response into df\n",
    "    hourly_data = {\n",
    "        \"Datetime\" : hourly_index,\n",
    "        \"Temperature\" : hourly_temperature_2m,\n",
    "        \"Rain\" : rain,\n",
    "        \"RelativeHumidity\" : relative_humidity_2m\n",
    "    }\n",
    "\n",
    "    hourly_df= pd.DataFrame(hourly_data)\n",
    "\n",
    "    # Aggregate for daily data\n",
    "    daily_df = hourly_df.groupby(pd.Grouper(key='Datetime', freq='D')).agg({\n",
    "        'Temperature': ['mean', 'max', 'min'],\n",
    "        'Rain': ['sum'],\n",
    "        'RelativeHumidity' :['mean', 'max', 'min']\n",
    "    })\n",
    "\n",
    "    daily_df.columns = [x + y.capitalize() for x,y in daily_df.columns.values]\n",
    "    daily_df = daily_df.reset_index()\n",
    "    \n",
    "    return daily_df"
   ]
  },
  {
   "cell_type": "code",
   "execution_count": 4,
   "metadata": {},
   "outputs": [],
   "source": [
    "def get_logger(logname):\n",
    "    # Create a log file in case we reach max api calls or random failure\n",
    "    logname = \"APIcalls.log\"\n",
    "\n",
    "    # If log file doesn't exist, create new one\n",
    "    if not os.path.exists(logname):\n",
    "        logger = logging.getLogger()\n",
    "        fhandler = logging.FileHandler(filename=logname, encoding=\"utf-8\")\n",
    "        formatter = logging.Formatter('%(asctime)s [%(levelname)s] > %(message)s')\n",
    "        fhandler.setFormatter(formatter)\n",
    "        logger.addHandler(fhandler)\n",
    "        logger.setLevel(logging.DEBUG)\n",
    "        print(\"Created log \" + logname)\n",
    "\n",
    "    # Else use the existing file\n",
    "    else:\n",
    "        # Configure the logger\n",
    "        logging.basicConfig(\n",
    "            filename= logname,    # Use the existing log file\n",
    "            filemode='a',          # Append mode, to add to the existing log file. 'w' for overwrite\n",
    "            format='%(asctime)s [%(levelname)s] - %(name)s:%(filename)s > %(message)s', # Format using %() for backward compatibility\n",
    "            level=logging.DEBUG     # Set the logging level as needed. DEBUG means log everything above DEBUG\n",
    "        )\n",
    "\n",
    "        # Create a logger object\n",
    "        logger = logging.getLogger()\n",
    "        print(\"Loaded log \" + logname)\n",
    "\n",
    "    return logger"
   ]
  },
  {
   "cell_type": "code",
   "execution_count": 5,
   "metadata": {},
   "outputs": [],
   "source": [
    "# insert(0, \"ClusterID\", )"
   ]
  },
  {
   "cell_type": "code",
   "execution_count": 6,
   "metadata": {},
   "outputs": [],
   "source": [
    "def collect_data(df):\n",
    "    pass"
   ]
  },
  {
   "cell_type": "code",
   "execution_count": 6,
   "metadata": {},
   "outputs": [
    {
     "data": {
      "text/html": [
       "<div>\n",
       "<style scoped>\n",
       "    .dataframe tbody tr th:only-of-type {\n",
       "        vertical-align: middle;\n",
       "    }\n",
       "\n",
       "    .dataframe tbody tr th {\n",
       "        vertical-align: top;\n",
       "    }\n",
       "\n",
       "    .dataframe thead th {\n",
       "        text-align: right;\n",
       "    }\n",
       "</style>\n",
       "<table border=\"1\" class=\"dataframe\">\n",
       "  <thead>\n",
       "    <tr style=\"text-align: right;\">\n",
       "      <th></th>\n",
       "      <th>ClusterID</th>\n",
       "      <th>Latitude</th>\n",
       "      <th>Longitude</th>\n",
       "    </tr>\n",
       "  </thead>\n",
       "  <tbody>\n",
       "    <tr>\n",
       "      <th>0</th>\n",
       "      <td>100412</td>\n",
       "      <td>-35.855856</td>\n",
       "      <td>148.648649</td>\n",
       "    </tr>\n",
       "    <tr>\n",
       "      <th>1</th>\n",
       "      <td>101407</td>\n",
       "      <td>-36.216216</td>\n",
       "      <td>146.846847</td>\n",
       "    </tr>\n",
       "  </tbody>\n",
       "</table>\n",
       "</div>"
      ],
      "text/plain": [
       "   ClusterID   Latitude   Longitude\n",
       "0     100412 -35.855856  148.648649\n",
       "1     101407 -36.216216  146.846847"
      ]
     },
     "execution_count": 6,
     "metadata": {},
     "output_type": "execute_result"
    }
   ],
   "source": [
    "df = pd.read_csv('../Datasets/Clusters.csv')\n",
    "df.head(2)"
   ]
  },
  {
   "cell_type": "markdown",
   "metadata": {},
   "source": [
    "## Test the Functions"
   ]
  },
  {
   "cell_type": "code",
   "execution_count": 8,
   "metadata": {},
   "outputs": [],
   "source": [
    "# Test the function\n",
    "n = 1\n",
    "latitudes = df.Latitude[:n]\n",
    "longitudes = df.Longitude[:n]\n",
    "start_date = '2000-01-01'\n",
    "end_date = '2024-07-31'\n",
    "# start_date = datetime.today() - timedelta(3) # Get the date for 3 days ago\n",
    "# start_date = start_date.strftime('%Y-%m-%d')\n",
    "# end_date = datetime.today() - timedelta(1) # Get yesterday date. \n",
    "# end_date = end_date.strftime('%Y-%m-%d')\n",
    "\n",
    "responses = fetch_weather(latitudes, longitudes, start_date, end_date)"
   ]
  },
  {
   "cell_type": "code",
   "execution_count": 9,
   "metadata": {},
   "outputs": [
    {
     "data": {
      "text/plain": [
       "[<openmeteo_sdk.WeatherApiResponse.WeatherApiResponse at 0x1ee1c72e3d0>]"
      ]
     },
     "execution_count": 9,
     "metadata": {},
     "output_type": "execute_result"
    }
   ],
   "source": [
    "responses"
   ]
  },
  {
   "cell_type": "code",
   "execution_count": null,
   "metadata": {},
   "outputs": [],
   "source": [
    "# n = 10 => ~12 seconds\n",
    "# n = 100 => ~77seconds"
   ]
  },
  {
   "cell_type": "code",
   "execution_count": 10,
   "metadata": {},
   "outputs": [
    {
     "name": "stdout",
     "output_type": "stream",
     "text": [
      "The size of arrays of 1 responses : 88 bytes\n",
      "The size of each response : 40 bytes\n"
     ]
    }
   ],
   "source": [
    "print(f'The size of arrays of {n} responses : {sys.getsizeof(responses)} bytes')\n",
    "print(f'The size of each response : {sys.getsizeof(responses[0])} bytes')"
   ]
  },
  {
   "cell_type": "markdown",
   "metadata": {},
   "source": [
    "## Collect and Store Responses Using Pickle"
   ]
  },
  {
   "cell_type": "code",
   "execution_count": 7,
   "metadata": {},
   "outputs": [
    {
     "name": "stdout",
     "output_type": "stream",
     "text": [
      "File already exist\n"
     ]
    }
   ],
   "source": [
    "pname = \"responses.pkl\" # Pickle Filenamae\n",
    "\n",
    "responses = []\n",
    "if not os.path.exists(pname):\n",
    "    # Create file\n",
    "    with open(pname, 'wb') as f:\n",
    "        pickle.dump(responses, f)\n",
    "\n",
    "else:\n",
    "    print(\"File already exist\")\n",
    "\n",
    "# Load from a file\n",
    "with open(pname, 'rb') as f:\n",
    "    loaded_responses = pickle.load(f)"
   ]
  },
  {
   "cell_type": "code",
   "execution_count": 8,
   "metadata": {},
   "outputs": [
    {
     "data": {
      "text/plain": [
       "200"
      ]
     },
     "execution_count": 8,
     "metadata": {},
     "output_type": "execute_result"
    }
   ],
   "source": [
    "len(loaded_responses)"
   ]
  },
  {
   "cell_type": "code",
   "execution_count": 11,
   "metadata": {},
   "outputs": [
    {
     "name": "stdout",
     "output_type": "stream",
     "text": [
      "Loaded log APIcalls.log\n"
     ]
    },
    {
     "data": {
      "application/vnd.jupyter.widget-view+json": {
       "model_id": "7cee8408c3334af48ebae0b399bd930c",
       "version_major": 2,
       "version_minor": 0
      },
      "text/plain": [
       "  0%|          | 0/21 [00:00<?, ?it/s]"
      ]
     },
     "metadata": {},
     "output_type": "display_data"
    },
    {
     "name": "stdout",
     "output_type": "stream",
     "text": [
      "{'error': True, 'reason': 'Daily API request limit exceeded. Please try again tomorrow.'} Encountered at iteration 0\n"
     ]
    }
   ],
   "source": [
    "responses = []\n",
    "start = len(loaded_responses)\n",
    "end = len(df)\n",
    "step = 100\n",
    "start_date = '2000-01-01'\n",
    "end_date = '2024-07-31'\n",
    "logger = get_logger(\"APIcalls.log\")\n",
    "pname = 'responses.pkl'\n",
    "\n",
    "for i in trange(start, end, step):\n",
    "    try:\n",
    "        latitudes = df.Latitude[i:i+step]\n",
    "        longitudes = df.Longitude[i:i+step]\n",
    "        responses += fetch_weather(latitudes, longitudes, start_date, end_date)\n",
    "        logger.debug(f\"Responses fetched for rows {i}-{i+step}\")\n",
    "    \n",
    "    except Exception as err:\n",
    "        s = f\"{err} Encountered at iteration {start + i}\"\n",
    "        print(s)\n",
    "        logger.error(s)\n",
    "        # Load from a file\n",
    "        with open(pname, 'rb') as f:\n",
    "            loaded_responses = pickle.load(f)\n",
    "        loaded_responses += responses\n",
    "        \n",
    "        with open(pname, 'wb') as f:\n",
    "            pickle.dump(responses, f)\n",
    "        break"
   ]
  },
  {
   "cell_type": "code",
   "execution_count": null,
   "metadata": {},
   "outputs": [],
   "source": []
  }
 ],
 "metadata": {
  "kernelspec": {
   "display_name": "Python 3",
   "language": "python",
   "name": "python3"
  },
  "language_info": {
   "codemirror_mode": {
    "name": "ipython",
    "version": 3
   },
   "file_extension": ".py",
   "mimetype": "text/x-python",
   "name": "python",
   "nbconvert_exporter": "python",
   "pygments_lexer": "ipython3",
   "version": "3.9.0"
  }
 },
 "nbformat": 4,
 "nbformat_minor": 2
}
