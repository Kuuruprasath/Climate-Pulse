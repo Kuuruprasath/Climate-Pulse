{
 "cells": [
  {
   "cell_type": "code",
   "execution_count": null,
   "metadata": {},
   "outputs": [],
   "source": [
    "\n",
    "import pandas as pd\n"
   ]
  },
  {
   "cell_type": "markdown",
   "metadata": {},
   "source": [
    "# Converting Name to Latititude and Longtitudeb"
   ]
  },
  {
   "cell_type": "code",
   "execution_count": 30,
   "metadata": {},
   "outputs": [],
   "source": [
    "\n",
    "def suburb_to_lat_long(suburb_name):\n",
    "\n",
    "    suburbs = pd.read_csv(\"../Actual_datasets/SuburbClustered.csv\")\n",
    "    suburbs\n",
    "    filter = suburbs[suburbs[\"OfficialNameSuburb\"] == suburb_name]\n",
    "    latitude = filter[\"Latitude\"]\n",
    "    longtitude = filter[\"Longitude\"]\n",
    "    return [latitude,longtitude]\n",
    "# print(suburb_to_lat_long(\"Alpine\"))\n"
   ]
  },
  {
   "cell_type": "markdown",
   "metadata": {},
   "source": [
    "# Name to Cluster ID "
   ]
  },
  {
   "cell_type": "code",
   "execution_count": 36,
   "metadata": {},
   "outputs": [],
   "source": [
    "def suburb_to_ClusterID(suburb_name):  \n",
    "    suburbs = pd.read_csv(\"../Actual_datasets/SuburbClustered.csv\")\n",
    "    suburbs\n",
    "    filter = suburbs[suburbs[\"OfficialNameSuburb\"] == suburb_name]\n",
    "    clusterID = filter[\"ClusterID\"]\n",
    "    return clusterID\n",
    "# print(suburb_to_ClusterID(\"Alpine\"))\n"
   ]
  },
  {
   "cell_type": "markdown",
   "metadata": {},
   "source": [
    "# Cluster ID to Weather Variables"
   ]
  },
  {
   "cell_type": "code",
   "execution_count": 50,
   "metadata": {},
   "outputs": [
    {
     "name": "stdout",
     "output_type": "stream",
     "text": [
      "       ClusterID                   Datetime  TemperatureMean  TemperatureMax  \\\n",
      "8980      101407  1999-12-31 00:00:00+00:00        10.773500       14.983500   \n",
      "8981      101407  2000-01-01 00:00:00+00:00        15.437667       20.633500   \n",
      "8982      101407  2000-01-02 00:00:00+00:00        17.773083       22.083500   \n",
      "8983      101407  2000-01-03 00:00:00+00:00        19.789750       25.083500   \n",
      "8984      101407  2000-01-04 00:00:00+00:00        13.754333       17.833500   \n",
      "...          ...                        ...              ...             ...   \n",
      "17955     101407  2024-07-27 00:00:00+00:00         6.185333       12.277000   \n",
      "17956     101407  2024-07-28 00:00:00+00:00         3.924917        8.777000   \n",
      "17957     101407  2024-07-29 00:00:00+00:00         3.791583       11.327001   \n",
      "17958     101407  2024-07-30 00:00:00+00:00         3.947833       10.877000   \n",
      "17959     101407  2024-07-31 00:00:00+00:00         7.094857       12.077001   \n",
      "\n",
      "       TemperatureMin  RainSum  RelativeHumidityMean  RelativeHumidityMax  \\\n",
      "8980         8.833500      0.0             65.997770            74.279880   \n",
      "8981         9.283501      0.0             61.943752            88.819500   \n",
      "8982        11.883499      0.0             62.072330            85.239900   \n",
      "8983        14.383499      2.4             61.426926            81.287155   \n",
      "8984        10.033501      0.0             61.829025            77.807090   \n",
      "...               ...      ...                   ...                  ...   \n",
      "17955        2.077000      5.8             85.822296            93.529274   \n",
      "17956       -0.573000      0.0             77.762960            91.970200   \n",
      "17957       -1.223000      0.0             78.891880            93.281460   \n",
      "17958       -0.323000      0.0             75.216690            86.366370   \n",
      "17959        0.877000      0.0             72.191414            91.683730   \n",
      "\n",
      "       RelativeHumidityMin  \n",
      "8980             54.503334  \n",
      "8981             39.801456  \n",
      "8982             39.671116  \n",
      "8983             38.961792  \n",
      "8984             44.220837  \n",
      "...                    ...  \n",
      "17955            64.737470  \n",
      "17956            56.815857  \n",
      "17957            51.817610  \n",
      "17958            50.860195  \n",
      "17959            52.389800  \n",
      "\n",
      "[8980 rows x 9 columns]\n"
     ]
    }
   ],
   "source": [
    "def clusterID_to_variables(clusterID):  \n",
    "    weather = pd.read_csv(\"../Actual_datasets/WeatherData.csv\")\n",
    "    filter = weather[weather[\"ClusterID\"] == clusterID]\n",
    "    # mintemp = filter[\"TemperatureMin\"]\n",
    "    # maxtemp = filter[\"TemperatureMax\"]\n",
    "    # avgtemp = filter[\"TemperatureMean\"]\n",
    "    # rain = filter[\"RainSum\"]\n",
    "    filterdf = pd.DataFrame(filter)\n",
    "    return filterdf\n",
    "print(clusterID_to_variables(101407))"
   ]
  },
  {
   "cell_type": "markdown",
   "metadata": {},
   "source": [
    "# Suburb to Var"
   ]
  },
  {
   "cell_type": "code",
   "execution_count": 55,
   "metadata": {},
   "outputs": [],
   "source": [
    "def suburb_to_var(suburb_name):\n",
    "    ClusterID = suburb_to_ClusterID(suburb_name)\n",
    "    variables = clusterID_to_variables(ClusterID.values[0])\n",
    "    return variables\n",
    "# print(suburb_to_var(\"Alpine\"))\n"
   ]
  },
  {
   "cell_type": "code",
   "execution_count": null,
   "metadata": {},
   "outputs": [],
   "source": [
    "\n",
    "# # Set up temporary directory\n",
    "# temp_dir = '../Temp'\n",
    "# os.makedirs(temp_dir, exist_ok=True)\n",
    "\n",
    "# # Download dataset\n",
    "# kaggle.api.dataset_download_files('https://www.kaggle.com/datasets/nadzmiagthomas/australia-weather-data-2000-2024?select=SuburbClustered.csv', path=temp_dir, unzip=True)\n",
    "\n",
    "# # Now you can load the dataset using pandas or any other library\n",
    "\n",
    "# df = pd.read_csv(os.path.join(temp_dir, 'data.csv'))\n",
    "\n",
    "# # Do something with the data\n",
    "# print(df.head())\n",
    "\n",
    "# # Clean up\n",
    "# shutil.rmtree(temp_dir)\n"
   ]
  },
  {
   "cell_type": "code",
   "execution_count": null,
   "metadata": {},
   "outputs": [],
   "source": []
  }
 ],
 "metadata": {
  "kernelspec": {
   "display_name": "Python 3",
   "language": "python",
   "name": "python3"
  },
  "language_info": {
   "codemirror_mode": {
    "name": "ipython",
    "version": 3
   },
   "file_extension": ".py",
   "mimetype": "text/x-python",
   "name": "python",
   "nbconvert_exporter": "python",
   "pygments_lexer": "ipython3",
   "version": "3.12.5"
  }
 },
 "nbformat": 4,
 "nbformat_minor": 2
}
