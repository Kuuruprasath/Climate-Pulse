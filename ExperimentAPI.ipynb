{
 "cells": [
  {
   "cell_type": "code",
   "execution_count": 19,
   "metadata": {},
   "outputs": [],
   "source": [
    "import openmeteo_requests\n",
    "import requests_cache\n",
    "import pandas as pd\n",
    "from retry_requests import retry\n",
    "from datetime import datetime, timedelta"
   ]
  },
  {
   "cell_type": "code",
   "execution_count": 17,
   "metadata": {},
   "outputs": [],
   "source": [
    "# TODO: Add error handling\n",
    "def fetch_weather(latitudes, longitudes, start_date, end_date):\n",
    "    \"\"\"\n",
    "    Get weather data for (latitudes, longitudes) from start_date to end_date\n",
    "\n",
    "    Args:\n",
    "        latitudes (list): List of latitudes [1st_lat, 2nd_lat, ...]\n",
    "        longitudes (list): List of longitudes corresponding to the latitudes [1st_long, 2nd_long, ...]\n",
    "        start_date (str): String of starting date in the ISO 8601 format (i.e. YYYY-MM-DD)\n",
    "        end_date (str): String of starting date in the same format as start_date\n",
    "\n",
    "    Returns:\n",
    "        int: NOTSURE YET\n",
    "    \"\"\"\n",
    "\n",
    "    url = \"https://archive-api.open-meteo.com/v1/archive\"\n",
    "    # Setup the Open-Meteo API client with cache and retry on error\n",
    "    cache_session = requests_cache.CachedSession('.cache', expire_after = 3600)\n",
    "    retry_session = retry(cache_session, retries = 5, backoff_factor = 0.2)\n",
    "    openmeteo = openmeteo_requests.Client(session = retry_session)\n",
    "\n",
    "    latitudes = list(latitudes)\n",
    "    longitudes = list(longitudes)\n",
    "    \n",
    "    params = {\n",
    "\t\"latitude\": latitudes,\n",
    "\t\"longitude\": longitudes,\n",
    "\t\"start_date\": start_date,\n",
    "\t\"end_date\": end_date,\n",
    "\t\"hourly\": [\"temperature_2m\", \"rain\", \"precipitation\", \"relative_humidity_2m\"],\n",
    "\t\"timezone\": \"auto\"   \n",
    "    }\n",
    "\n",
    "    responses = openmeteo.weather_api(url, params=params)\n",
    "    return responses"
   ]
  },
  {
   "cell_type": "code",
   "execution_count": 7,
   "metadata": {},
   "outputs": [
    {
     "data": {
      "text/html": [
       "<div>\n",
       "<style scoped>\n",
       "    .dataframe tbody tr th:only-of-type {\n",
       "        vertical-align: middle;\n",
       "    }\n",
       "\n",
       "    .dataframe tbody tr th {\n",
       "        vertical-align: top;\n",
       "    }\n",
       "\n",
       "    .dataframe thead th {\n",
       "        text-align: right;\n",
       "    }\n",
       "</style>\n",
       "<table border=\"1\" class=\"dataframe\">\n",
       "  <thead>\n",
       "    <tr style=\"text-align: right;\">\n",
       "      <th></th>\n",
       "      <th>Unnamed: 0</th>\n",
       "      <th>OfficialNameSuburb</th>\n",
       "      <th>OfficialNameState</th>\n",
       "      <th>OfficialCodeLocalGovernmentArea</th>\n",
       "      <th>OfficialCodeState</th>\n",
       "      <th>Latitude</th>\n",
       "      <th>Longitude</th>\n",
       "      <th>GeoShape</th>\n",
       "    </tr>\n",
       "  </thead>\n",
       "  <tbody>\n",
       "    <tr>\n",
       "      <th>0</th>\n",
       "      <td>0</td>\n",
       "      <td>Adaminaby</td>\n",
       "      <td>New South Wales</td>\n",
       "      <td>17040</td>\n",
       "      <td>1</td>\n",
       "      <td>-36.011932</td>\n",
       "      <td>148.786320</td>\n",
       "      <td>{\"coordinates\": [[[148.71675360000006, -36.060...</td>\n",
       "    </tr>\n",
       "    <tr>\n",
       "      <th>1</th>\n",
       "      <td>1</td>\n",
       "      <td>Albury</td>\n",
       "      <td>New South Wales</td>\n",
       "      <td>10050</td>\n",
       "      <td>1</td>\n",
       "      <td>-36.073698</td>\n",
       "      <td>146.913468</td>\n",
       "      <td>{\"coordinates\": [[[146.92431042300007, -36.086...</td>\n",
       "    </tr>\n",
       "  </tbody>\n",
       "</table>\n",
       "</div>"
      ],
      "text/plain": [
       "   Unnamed: 0 OfficialNameSuburb OfficialNameState  \\\n",
       "0           0          Adaminaby   New South Wales   \n",
       "1           1             Albury   New South Wales   \n",
       "\n",
       "  OfficialCodeLocalGovernmentArea OfficialCodeState   Latitude   Longitude  \\\n",
       "0                           17040                 1 -36.011932  148.786320   \n",
       "1                           10050                 1 -36.073698  146.913468   \n",
       "\n",
       "                                            GeoShape  \n",
       "0  {\"coordinates\": [[[148.71675360000006, -36.060...  \n",
       "1  {\"coordinates\": [[[146.92431042300007, -36.086...  "
      ]
     },
     "execution_count": 7,
     "metadata": {},
     "output_type": "execute_result"
    }
   ],
   "source": [
    "df = pd.read_csv('Datasets/Suburb.csv')\n",
    "df.head(2)"
   ]
  },
  {
   "cell_type": "code",
   "execution_count": 45,
   "metadata": {},
   "outputs": [],
   "source": [
    "# Test the function\n",
    "n = 5\n",
    "latitudes = df.Latitude[:n]\n",
    "longitudes = df.Longitude[:n]\n",
    "# start_date = '2000-01-01'\n",
    "start_date = datetime.today() - timedelta(3) # Get the date for 3 days ago\n",
    "start_date = start_date.strftime('%Y-%m-%d')\n",
    "end_date = datetime.today() - timedelta(1) # Get yesterday date. \n",
    "end_date = end_date.strftime('%Y-%m-%d')\n",
    "\n",
    "res = fetch_weather(latitudes, longitudes, start_date, end_date)"
   ]
  },
  {
   "cell_type": "code",
   "execution_count": 46,
   "metadata": {},
   "outputs": [
    {
     "data": {
      "text/plain": [
       "[<openmeteo_sdk.WeatherApiResponse.WeatherApiResponse at 0x13bcdf644c0>,\n",
       " <openmeteo_sdk.WeatherApiResponse.WeatherApiResponse at 0x13bcdf64400>,\n",
       " <openmeteo_sdk.WeatherApiResponse.WeatherApiResponse at 0x13bcdf645b0>,\n",
       " <openmeteo_sdk.WeatherApiResponse.WeatherApiResponse at 0x13bcdf64be0>,\n",
       " <openmeteo_sdk.WeatherApiResponse.WeatherApiResponse at 0x13bcdfc64f0>]"
      ]
     },
     "execution_count": 46,
     "metadata": {},
     "output_type": "execute_result"
    }
   ],
   "source": [
    "res"
   ]
  },
  {
   "cell_type": "code",
   "execution_count": 47,
   "metadata": {},
   "outputs": [
    {
     "name": "stdout",
     "output_type": "stream",
     "text": [
      "Help on WeatherApiResponse in module openmeteo_sdk.WeatherApiResponse object:\n",
      "\n",
      "class WeatherApiResponse(builtins.object)\n",
      " |  Methods defined here:\n",
      " |  \n",
      " |  Current(self) -> Optional[openmeteo_sdk.VariablesWithTime.VariablesWithTime]\n",
      " |      # WeatherApiResponse\n",
      " |  \n",
      " |  Daily(self) -> Optional[openmeteo_sdk.VariablesWithTime.VariablesWithTime]\n",
      " |      # WeatherApiResponse\n",
      " |  \n",
      " |  Elevation(self)\n",
      " |      # WeatherApiResponse\n",
      " |  \n",
      " |  GenerationTimeMilliseconds(self)\n",
      " |      # WeatherApiResponse\n",
      " |  \n",
      " |  Hourly(self) -> Optional[openmeteo_sdk.VariablesWithTime.VariablesWithTime]\n",
      " |      # WeatherApiResponse\n",
      " |  \n",
      " |  Init(self, buf: bytes, pos: int)\n",
      " |      # WeatherApiResponse\n",
      " |  \n",
      " |  Latitude(self)\n",
      " |      # WeatherApiResponse\n",
      " |  \n",
      " |  LocationId(self)\n",
      " |      # WeatherApiResponse\n",
      " |  \n",
      " |  Longitude(self)\n",
      " |      # WeatherApiResponse\n",
      " |  \n",
      " |  Minutely15(self) -> Optional[openmeteo_sdk.VariablesWithTime.VariablesWithTime]\n",
      " |      # WeatherApiResponse\n",
      " |  \n",
      " |  Model(self)\n",
      " |      # WeatherApiResponse\n",
      " |  \n",
      " |  SixHourly(self) -> Optional[openmeteo_sdk.VariablesWithTime.VariablesWithTime]\n",
      " |      # WeatherApiResponse\n",
      " |  \n",
      " |  Timezone(self) -> Optional[str]\n",
      " |      # WeatherApiResponse\n",
      " |  \n",
      " |  TimezoneAbbreviation(self) -> Optional[str]\n",
      " |      # WeatherApiResponse\n",
      " |  \n",
      " |  UtcOffsetSeconds(self)\n",
      " |      # WeatherApiResponse\n",
      " |  \n",
      " |  ----------------------------------------------------------------------\n",
      " |  Class methods defined here:\n",
      " |  \n",
      " |  GetRootAs(buf, offset: int = 0) from builtins.type\n",
      " |  \n",
      " |  GetRootAsWeatherApiResponse(buf, offset=0) from builtins.type\n",
      " |      This method is deprecated. Please switch to GetRootAs.\n",
      "\n"
     ]
    }
   ],
   "source": [
    "res1 = res[0]\n",
    "help(res1)"
   ]
  },
  {
   "cell_type": "code",
   "execution_count": 56,
   "metadata": {},
   "outputs": [],
   "source": [
    "# Location detail\n",
    "latitude = res1.Latitude()\n",
    "longitude = res1.Longitude()\n",
    "timezone = res1.Timezone()\n",
    "timezone_diff = response.UtcOffsetSeconds() # Timezone difference to GMT+0\n",
    "\n",
    "# Hourly\n",
    "hourly = res1.Hourly()\n",
    "hourly_index = pd.date_range(\n",
    "\tstart = pd.to_datetime(hourly.Time(), unit = \"s\", utc = True),\n",
    "\tend = pd.to_datetime(hourly.TimeEnd(), unit = \"s\", utc = True),\n",
    "\tfreq = pd.Timedelta(seconds = hourly.Interval()),\n",
    "\tinclusive = \"left\"\n",
    "    )\n",
    "hourly_temperature_2m = hourly.Variables(0).ValuesAsNumpy()\n",
    "rain = hourly.Variables(1).ValuesAsNumpy()\n",
    "precipitation = hourly.Variables(2).ValuesAsNumpy()\n",
    "relative_humidity_2m = hourly.Variables(3).ValuesAsNumpy()"
   ]
  },
  {
   "cell_type": "code",
   "execution_count": 53,
   "metadata": {},
   "outputs": [
    {
     "data": {
      "text/plain": [
       "72"
      ]
     },
     "execution_count": 53,
     "metadata": {},
     "output_type": "execute_result"
    }
   ],
   "source": [
    "len(hourly_index)"
   ]
  },
  {
   "cell_type": "code",
   "execution_count": 57,
   "metadata": {},
   "outputs": [],
   "source": [
    "hourly_data = {\n",
    "    \"index\" : hourly_index,\n",
    "    \"temperature\" : hourly_temperature_2m,\n",
    "    \"rain\" : rain,\n",
    "    \"precipitation\" : precipitation,\n",
    "    \"relative_humidity\" : relative_humidity_2m\n",
    "}\n",
    "\n",
    "hourly_df= pd.DataFrame(hourly_data)"
   ]
  },
  {
   "cell_type": "code",
   "execution_count": 59,
   "metadata": {},
   "outputs": [
    {
     "data": {
      "text/html": [
       "<div>\n",
       "<style scoped>\n",
       "    .dataframe tbody tr th:only-of-type {\n",
       "        vertical-align: middle;\n",
       "    }\n",
       "\n",
       "    .dataframe tbody tr th {\n",
       "        vertical-align: top;\n",
       "    }\n",
       "\n",
       "    .dataframe thead th {\n",
       "        text-align: right;\n",
       "    }\n",
       "</style>\n",
       "<table border=\"1\" class=\"dataframe\">\n",
       "  <thead>\n",
       "    <tr style=\"text-align: right;\">\n",
       "      <th></th>\n",
       "      <th>index</th>\n",
       "      <th>temperature</th>\n",
       "      <th>rain</th>\n",
       "      <th>precipitation</th>\n",
       "      <th>relative_humidity</th>\n",
       "    </tr>\n",
       "  </thead>\n",
       "  <tbody>\n",
       "    <tr>\n",
       "      <th>0</th>\n",
       "      <td>2024-07-26 14:00:00+00:00</td>\n",
       "      <td>-1.86</td>\n",
       "      <td>93.217346</td>\n",
       "      <td>-2.81</td>\n",
       "      <td>0.0</td>\n",
       "    </tr>\n",
       "    <tr>\n",
       "      <th>1</th>\n",
       "      <td>2024-07-26 15:00:00+00:00</td>\n",
       "      <td>-2.41</td>\n",
       "      <td>90.783295</td>\n",
       "      <td>-3.71</td>\n",
       "      <td>0.0</td>\n",
       "    </tr>\n",
       "    <tr>\n",
       "      <th>2</th>\n",
       "      <td>2024-07-26 16:00:00+00:00</td>\n",
       "      <td>-2.61</td>\n",
       "      <td>90.090958</td>\n",
       "      <td>-4.01</td>\n",
       "      <td>0.0</td>\n",
       "    </tr>\n",
       "    <tr>\n",
       "      <th>3</th>\n",
       "      <td>2024-07-26 17:00:00+00:00</td>\n",
       "      <td>-2.91</td>\n",
       "      <td>90.746613</td>\n",
       "      <td>-4.21</td>\n",
       "      <td>0.0</td>\n",
       "    </tr>\n",
       "    <tr>\n",
       "      <th>4</th>\n",
       "      <td>2024-07-26 18:00:00+00:00</td>\n",
       "      <td>-3.11</td>\n",
       "      <td>91.073700</td>\n",
       "      <td>-4.36</td>\n",
       "      <td>0.0</td>\n",
       "    </tr>\n",
       "  </tbody>\n",
       "</table>\n",
       "</div>"
      ],
      "text/plain": [
       "                      index  temperature       rain  precipitation  \\\n",
       "0 2024-07-26 14:00:00+00:00        -1.86  93.217346          -2.81   \n",
       "1 2024-07-26 15:00:00+00:00        -2.41  90.783295          -3.71   \n",
       "2 2024-07-26 16:00:00+00:00        -2.61  90.090958          -4.01   \n",
       "3 2024-07-26 17:00:00+00:00        -2.91  90.746613          -4.21   \n",
       "4 2024-07-26 18:00:00+00:00        -3.11  91.073700          -4.36   \n",
       "\n",
       "   relative_humidity  \n",
       "0                0.0  \n",
       "1                0.0  \n",
       "2                0.0  \n",
       "3                0.0  \n",
       "4                0.0  "
      ]
     },
     "execution_count": 59,
     "metadata": {},
     "output_type": "execute_result"
    }
   ],
   "source": [
    "hourly_df.head()"
   ]
  },
  {
   "cell_type": "code",
   "execution_count": null,
   "metadata": {},
   "outputs": [],
   "source": [
    "# Function for processing the responses\n",
    "def process_responses(responses):\n",
    "    pass"
   ]
  },
  {
   "cell_type": "markdown",
   "metadata": {},
   "source": [
    "Actually probably have to use mysql"
   ]
  }
 ],
 "metadata": {
  "kernelspec": {
   "display_name": "Python 3",
   "language": "python",
   "name": "python3"
  },
  "language_info": {
   "codemirror_mode": {
    "name": "ipython",
    "version": 3
   },
   "file_extension": ".py",
   "mimetype": "text/x-python",
   "name": "python",
   "nbconvert_exporter": "python",
   "pygments_lexer": "ipython3",
   "version": "3.9.0"
  }
 },
 "nbformat": 4,
 "nbformat_minor": 2
}
