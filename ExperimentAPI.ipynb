{
 "cells": [
  {
   "cell_type": "code",
   "execution_count": 5,
   "metadata": {},
   "outputs": [],
   "source": [
    "import openmeteo_requests\n",
    "import requests_cache\n",
    "import pandas as pd\n",
    "from retry_requests import retry\n",
    "from datetime import datetime, timedelta"
   ]
  },
  {
   "cell_type": "code",
   "execution_count": 6,
   "metadata": {},
   "outputs": [],
   "source": [
    "# TODO: Add error handling\n",
    "def fetch_weather(latitudes, longitudes, start_date, end_date):\n",
    "    \"\"\"\n",
    "    Get weather data for (latitudes, longitudes) from start_date to end_date\n",
    "\n",
    "    Args:\n",
    "        latitudes (list): List of latitudes [1st_lat, 2nd_lat, ...]\n",
    "        longitudes (list): List of longitudes corresponding to the latitudes [1st_long, 2nd_long, ...]\n",
    "        start_date (str): String of starting date in the ISO 8601 format (i.e. YYYY-MM-DD)\n",
    "        end_date (str): String of starting date in the same format as start_date\n",
    "\n",
    "    Returns:\n",
    "        int: NOTSURE YET\n",
    "    \"\"\"\n",
    "\n",
    "    url = \"https://archive-api.open-meteo.com/v1/archive\"\n",
    "    # Setup the Open-Meteo API client with cache and retry on error\n",
    "    cache_session = requests_cache.CachedSession('.cache', expire_after = 3600)\n",
    "    retry_session = retry(cache_session, retries = 5, backoff_factor = 0.2)\n",
    "    openmeteo = openmeteo_requests.Client(session = retry_session)\n",
    "\n",
    "    latitudes = list(latitudes)\n",
    "    longitudes = list(longitudes)\n",
    "    \n",
    "    params = {\n",
    "\t\"latitude\": latitudes,\n",
    "\t\"longitude\": longitudes,\n",
    "\t\"start_date\": start_date,\n",
    "\t\"end_date\": end_date,\n",
    "\t\"hourly\": [\"temperature_2m\", \"rain\", \"precipitation\", \"relative_humidity_2m\"],\n",
    "\t\"timezone\": \"auto\"   \n",
    "    }\n",
    "\n",
    "    responses = openmeteo.weather_api(url, params=params)\n",
    "    return responses"
   ]
  },
  {
   "cell_type": "code",
   "execution_count": 7,
   "metadata": {},
   "outputs": [
    {
     "data": {
      "text/html": [
       "<div>\n",
       "<style scoped>\n",
       "    .dataframe tbody tr th:only-of-type {\n",
       "        vertical-align: middle;\n",
       "    }\n",
       "\n",
       "    .dataframe tbody tr th {\n",
       "        vertical-align: top;\n",
       "    }\n",
       "\n",
       "    .dataframe thead th {\n",
       "        text-align: right;\n",
       "    }\n",
       "</style>\n",
       "<table border=\"1\" class=\"dataframe\">\n",
       "  <thead>\n",
       "    <tr style=\"text-align: right;\">\n",
       "      <th></th>\n",
       "      <th>OfficialNameSuburb</th>\n",
       "      <th>OfficialNameState</th>\n",
       "      <th>OfficialCodeLocalGovernmentArea</th>\n",
       "      <th>OfficialCodeState</th>\n",
       "      <th>Latitude</th>\n",
       "      <th>Longitude</th>\n",
       "      <th>GeoShape</th>\n",
       "    </tr>\n",
       "  </thead>\n",
       "  <tbody>\n",
       "    <tr>\n",
       "      <th>0</th>\n",
       "      <td>Adaminaby</td>\n",
       "      <td>New South Wales</td>\n",
       "      <td>17040</td>\n",
       "      <td>1</td>\n",
       "      <td>-36.011932</td>\n",
       "      <td>148.786320</td>\n",
       "      <td>{\"coordinates\": [[[148.71675360000006, -36.060...</td>\n",
       "    </tr>\n",
       "    <tr>\n",
       "      <th>1</th>\n",
       "      <td>Albury</td>\n",
       "      <td>New South Wales</td>\n",
       "      <td>10050</td>\n",
       "      <td>1</td>\n",
       "      <td>-36.073698</td>\n",
       "      <td>146.913468</td>\n",
       "      <td>{\"coordinates\": [[[146.92431042300007, -36.086...</td>\n",
       "    </tr>\n",
       "  </tbody>\n",
       "</table>\n",
       "</div>"
      ],
      "text/plain": [
       "  OfficialNameSuburb OfficialNameState OfficialCodeLocalGovernmentArea  \\\n",
       "0          Adaminaby   New South Wales                           17040   \n",
       "1             Albury   New South Wales                           10050   \n",
       "\n",
       "  OfficialCodeState   Latitude   Longitude  \\\n",
       "0                 1 -36.011932  148.786320   \n",
       "1                 1 -36.073698  146.913468   \n",
       "\n",
       "                                            GeoShape  \n",
       "0  {\"coordinates\": [[[148.71675360000006, -36.060...  \n",
       "1  {\"coordinates\": [[[146.92431042300007, -36.086...  "
      ]
     },
     "execution_count": 7,
     "metadata": {},
     "output_type": "execute_result"
    }
   ],
   "source": [
    "df = pd.read_csv('Datasets/Suburb.csv')\n",
    "df.head(2)"
   ]
  },
  {
   "cell_type": "code",
   "execution_count": 27,
   "metadata": {},
   "outputs": [],
   "source": [
    "# Test the function\n",
    "n = 5\n",
    "latitudes = df.Latitude[:n]\n",
    "longitudes = df.Longitude[:n]\n",
    "start_date = '2000-01-01'\n",
    "# start_date = datetime.today() - timedelta(3) # Get the date for 3 days ago\n",
    "# start_date = start_date.strftime('%Y-%m-%d')\n",
    "end_date = datetime.today() - timedelta(1) # Get yesterday date. \n",
    "end_date = end_date.strftime('%Y-%m-%d')\n",
    "\n",
    "res = fetch_weather(latitudes, longitudes, start_date, end_date)"
   ]
  },
  {
   "cell_type": "code",
   "execution_count": 28,
   "metadata": {},
   "outputs": [
    {
     "data": {
      "text/plain": [
       "[<openmeteo_sdk.WeatherApiResponse.WeatherApiResponse at 0x208a002cd00>,\n",
       " <openmeteo_sdk.WeatherApiResponse.WeatherApiResponse at 0x208a002ca60>,\n",
       " <openmeteo_sdk.WeatherApiResponse.WeatherApiResponse at 0x208a002cf40>,\n",
       " <openmeteo_sdk.WeatherApiResponse.WeatherApiResponse at 0x208a002cb20>,\n",
       " <openmeteo_sdk.WeatherApiResponse.WeatherApiResponse at 0x208a00c9220>]"
      ]
     },
     "execution_count": 28,
     "metadata": {},
     "output_type": "execute_result"
    }
   ],
   "source": [
    "res"
   ]
  },
  {
   "cell_type": "code",
   "execution_count": 29,
   "metadata": {},
   "outputs": [],
   "source": [
    "res1 = res[0]\n",
    "# help(res1)"
   ]
  },
  {
   "cell_type": "code",
   "execution_count": 32,
   "metadata": {},
   "outputs": [],
   "source": [
    "# Location detail\n",
    "latitude = res1.Latitude()\n",
    "longitude = res1.Longitude()\n",
    "timezone = res1.Timezone()\n",
    "timezone_diff = res1.UtcOffsetSeconds() # Timezone difference to GMT+0\n",
    "\n",
    "# Hourly\n",
    "hourly = res1.Hourly()\n",
    "hourly_index = pd.date_range(\n",
    "\tstart = pd.to_datetime(hourly.Time(), unit = \"s\", utc = True),\n",
    "\tend = pd.to_datetime(hourly.TimeEnd(), unit = \"s\", utc = True),\n",
    "\tfreq = pd.Timedelta(seconds = hourly.Interval()),\n",
    "\tinclusive = \"left\"\n",
    "    )\n",
    "hourly_temperature_2m = hourly.Variables(0).ValuesAsNumpy()\n",
    "rain = hourly.Variables(1).ValuesAsNumpy()\n",
    "precipitation = hourly.Variables(2).ValuesAsNumpy()\n",
    "relative_humidity_2m = hourly.Variables(3).ValuesAsNumpy()"
   ]
  },
  {
   "cell_type": "code",
   "execution_count": 37,
   "metadata": {},
   "outputs": [
    {
     "name": "stdout",
     "output_type": "stream",
     "text": [
      "Number of rows: 215448\n"
     ]
    }
   ],
   "source": [
    "print(\"Number of rows:\", len(hourly_index))"
   ]
  },
  {
   "cell_type": "code",
   "execution_count": 34,
   "metadata": {},
   "outputs": [],
   "source": [
    "hourly_data = {\n",
    "    \"index\" : hourly_index,\n",
    "    \"temperature\" : hourly_temperature_2m,\n",
    "    \"rain\" : rain,\n",
    "    \"precipitation\" : precipitation,\n",
    "    \"relative_humidity\" : relative_humidity_2m\n",
    "}\n",
    "\n",
    "hourly_df= pd.DataFrame(hourly_data)"
   ]
  },
  {
   "cell_type": "code",
   "execution_count": 36,
   "metadata": {},
   "outputs": [
    {
     "name": "stdout",
     "output_type": "stream",
     "text": [
      "<class 'pandas.core.frame.DataFrame'>\n",
      "RangeIndex: 215448 entries, 0 to 215447\n",
      "Data columns (total 5 columns):\n",
      " #   Column             Non-Null Count   Dtype              \n",
      "---  ------             --------------   -----              \n",
      " 0   index              215448 non-null  datetime64[ns, UTC]\n",
      " 1   temperature        215411 non-null  float32            \n",
      " 2   rain               215411 non-null  float32            \n",
      " 3   precipitation      215411 non-null  float32            \n",
      " 4   relative_humidity  215411 non-null  float32            \n",
      "dtypes: datetime64[ns, UTC](1), float32(4)\n",
      "memory usage: 4.9 MB\n"
     ]
    }
   ],
   "source": [
    "hourly_df.info()"
   ]
  },
  {
   "cell_type": "markdown",
   "metadata": {},
   "source": [
    "4.9 MB * 15000 suburbs = 73.5 Gb\n",
    "\n",
    "1. Can decrease the size by clustering coordinates that are close together. Then for each suburb just assign a cluster id"
   ]
  },
  {
   "cell_type": "code",
   "execution_count": null,
   "metadata": {},
   "outputs": [],
   "source": [
    "# Function for processing the responses\n",
    "def process_responses(responses):\n",
    "    pass"
   ]
  },
  {
   "cell_type": "markdown",
   "metadata": {},
   "source": [
    "Actually probably have to use mysql"
   ]
  }
 ],
 "metadata": {
  "kernelspec": {
   "display_name": "Python 3",
   "language": "python",
   "name": "python3"
  },
  "language_info": {
   "codemirror_mode": {
    "name": "ipython",
    "version": 3
   },
   "file_extension": ".py",
   "mimetype": "text/x-python",
   "name": "python",
   "nbconvert_exporter": "python",
   "pygments_lexer": "ipython3",
   "version": "3.9.0"
  }
 },
 "nbformat": 4,
 "nbformat_minor": 2
}
