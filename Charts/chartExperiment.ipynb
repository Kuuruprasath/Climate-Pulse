{
 "cells": [
  {
   "cell_type": "code",
   "execution_count": 9,
   "metadata": {},
   "outputs": [],
   "source": [
    "import plotly.express as px\n",
    "import sys\n",
    "import os\n",
    "import pandas as pd\n",
    "\n",
    "# Specify the full path to the \"Conversion\" folder directly\n",
    "sys.path.append('c:/Users/kuuru/3164/Climate-Pulse/Conversions')\n",
    "\n",
    "\n",
    "import convertt\n",
    "\n",
    "\n"
   ]
  },
  {
   "cell_type": "code",
   "execution_count": 12,
   "metadata": {},
   "outputs": [
    {
     "ename": "AttributeError",
     "evalue": "module 'convertt' has no attribute 'suburb_to_var'",
     "output_type": "error",
     "traceback": [
      "\u001b[1;31m---------------------------------------------------------------------------\u001b[0m",
      "\u001b[1;31mAttributeError\u001b[0m                            Traceback (most recent call last)",
      "Cell \u001b[1;32mIn[12], line 1\u001b[0m\n\u001b[1;32m----> 1\u001b[0m dataset \u001b[38;5;241m=\u001b[39m \u001b[43mconvertt\u001b[49m\u001b[38;5;241;43m.\u001b[39;49m\u001b[43msuburb_to_var\u001b[49m(\u001b[38;5;124m\"\u001b[39m\u001b[38;5;124mAlpine\u001b[39m\u001b[38;5;124m\"\u001b[39m)\n",
      "\u001b[1;31mAttributeError\u001b[0m: module 'convertt' has no attribute 'suburb_to_var'"
     ]
    }
   ],
   "source": [
    "dataset = convertt.suburb_to_var(\"Alpine\")\n",
    "\n"
   ]
  }
 ],
 "metadata": {
  "kernelspec": {
   "display_name": "Python 3",
   "language": "python",
   "name": "python3"
  },
  "language_info": {
   "codemirror_mode": {
    "name": "ipython",
    "version": 3
   },
   "file_extension": ".py",
   "mimetype": "text/x-python",
   "name": "python",
   "nbconvert_exporter": "python",
   "pygments_lexer": "ipython3",
   "version": "3.12.5"
  }
 },
 "nbformat": 4,
 "nbformat_minor": 2
}
