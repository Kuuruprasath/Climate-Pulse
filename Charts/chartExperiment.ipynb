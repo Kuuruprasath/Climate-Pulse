{
 "cells": [
  {
   "cell_type": "code",
   "execution_count": 2,
   "metadata": {},
   "outputs": [],
   "source": [
    "import plotly.express as px\n",
    "import sys\n",
    "import os\n",
    "import pandas as pd\n",
    "\n",
    "# Specify the full path to the \"Conversion\" folder directly\n",
    "sys.path.append('c:/Users/kuuru/3164/Climate-Pulse/Conversions')\n",
    "\n",
    "\n",
    "import convertt\n",
    "\n",
    "\n"
   ]
  },
  {
   "cell_type": "code",
   "execution_count": 3,
   "metadata": {},
   "outputs": [
    {
     "name": "stdout",
     "output_type": "stream",
     "text": [
      "[3   -34.408694\n",
      "Name: Latitude, dtype: float64, 3    150.536771\n",
      "Name: Longitude, dtype: float64]\n"
     ]
    }
   ],
   "source": [
    "print(convertt.suburb_to_lat_long(\"Alpine\"))\n"
   ]
  }
 ],
 "metadata": {
  "kernelspec": {
   "display_name": "Python 3",
   "language": "python",
   "name": "python3"
  },
  "language_info": {
   "codemirror_mode": {
    "name": "ipython",
    "version": 3
   },
   "file_extension": ".py",
   "mimetype": "text/x-python",
   "name": "python",
   "nbconvert_exporter": "python",
   "pygments_lexer": "ipython3",
   "version": "3.12.5"
  }
 },
 "nbformat": 4,
 "nbformat_minor": 2
}
