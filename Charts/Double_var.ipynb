{
 "cells": [
  {
   "cell_type": "code",
   "execution_count": 1,
   "metadata": {},
   "outputs": [],
   "source": [
    "import plotly.express as px\n",
    "import sys\n",
    "import os\n",
    "import pandas as pd\n",
    "sys.path.append('c:/Users/kuuru/3164/Climate-Pulse/Conversions')\n",
    "import convertt\n",
    "import psycopg2\n"
   ]
  },
  {
   "cell_type": "code",
   "execution_count": 2,
   "metadata": {},
   "outputs": [],
   "source": [
    "def get_dataset(suburbList):\n",
    "    import pandas as pd\n",
    "\n",
    "    clusterid,datetime,temperature,rainfall = convertt.suburb_to_var(suburbList)\n",
    "    dataset = {\n",
    "    'clusterid' : clusterid,\n",
    "    'datetime': datetime,\n",
    "    'temperature': temperature,\n",
    "    'rainfall': rainfall\n",
    "    }\n",
    "    dataset = pd.DataFrame(dataset)\n",
    "    return dataset\n"
   ]
  },
  {
   "cell_type": "code",
   "execution_count": 8,
   "metadata": {},
   "outputs": [],
   "source": [
    "def lineChart(dataset,variable,startDate,endDate,period):\n",
    "\n",
    "\n",
    "    dataset[\"datetime\"] = pd.to_datetime(dataset[\"datetime\"])\n",
    "    dataset['datetime'] = dataset['datetime'].dt.tz_localize('UTC').dt.tz_convert('UTC')\n",
    "\n",
    "    daterange = pd.date_range(startDate, endDate, freq=period)\n",
    "\n",
    "    filtered_dataset = dataset[dataset[\"datetime\"].isin(daterange)]\n",
    "\n",
    "    fig = px.line(filtered_dataset, y=variable,x = \"datetime\")\n",
    "    fig.update_layout(plot_bgcolor='white')\n",
    "    fig.show()\n",
    "\n",
    "startDate = pd.Timestamp(\"2015-01-01\", tz='UTC')\n",
    "endDate = pd.Timestamp(\"2024-07-31\", tz='UTC')\n",
    "variable = [\"temperature\",\"rainfall\"]\n",
    "period = \"M\"\n",
    "suburbs = ['Alpine']\n",
    "dataset = get_dataset(suburbs)\n",
    "# print(lineChart(dataset,variable,startDate,endDate,period))"
   ]
  },
  {
   "cell_type": "code",
   "execution_count": 10,
   "metadata": {},
   "outputs": [],
   "source": [
    "def pointChart(dataset,variable,startDate,endDate,period):\n",
    "\n",
    "    dataset[\"datetime\"] = pd.to_datetime(dataset[\"datetime\"])\n",
    "    dataset['datetime'] = dataset['datetime'].dt.tz_localize('UTC').dt.tz_convert('UTC')\n",
    "\n",
    "    daterange = pd.date_range(startDate, endDate, freq=period)\n",
    "\n",
    "    filtered_dataset = dataset[dataset[\"datetime\"].isin(daterange)]\n",
    "\n",
    "    fig = px.scatter(filtered_dataset, y=variable[0],x = variable[1])\n",
    "    fig.update_layout(plot_bgcolor='white')\n",
    "    fig.show()\n",
    "\n",
    "startDate = pd.Timestamp(\"2015-01-01\", tz='UTC')\n",
    "endDate = pd.Timestamp(\"2024-07-31\", tz='UTC')\n",
    "variable = [\"temperature\",\"rainfall\"]\n",
    "period = \"M\"\n",
    "suburbs = ['Alpine']\n",
    "dataset = get_dataset(suburbs)\n",
    "# print(pointChart(dataset,variable,startDate,endDate,period))"
   ]
  },
  {
   "cell_type": "code",
   "execution_count": 16,
   "metadata": {},
   "outputs": [],
   "source": [
    "def barChart(dataset,variable,startDate,endDate,period):\n",
    "\n",
    "\n",
    "    dataset[\"datetime\"] = pd.to_datetime(dataset[\"datetime\"])\n",
    "    # dataset['datetime'] = dataset['datetime'].dt.tz_localize('UTC').dt.tz_convert('UTC')\n",
    "\n",
    "    daterange = pd.date_range(startDate, endDate, freq=period)\n",
    "\n",
    "    filtered_dataset = dataset[dataset[\"datetime\"].isin(daterange)]\n",
    "\n",
    "    fig = px.bar(filtered_dataset, y=variable,x = \"datetime\",barmode=\"group\")\n",
    "    fig.update_layout(plot_bgcolor='white')\n",
    "    fig.show()\n",
    "\n",
    "startDate = pd.Timestamp(\"2015-01-01\", tz='UTC')\n",
    "endDate = pd.Timestamp(\"2024-07-31\", tz='UTC')\n",
    "variable = [\"temperature\",\"rainfall\"]\n",
    "period = \"M\"\n",
    "suburbs = ['Alpine']\n",
    "# print(barChart(dataset,variable,startDate,endDate,period))"
   ]
  },
  {
   "cell_type": "code",
   "execution_count": 17,
   "metadata": {},
   "outputs": [
    {
     "name": "stderr",
     "output_type": "stream",
     "text": [
      "C:\\Users\\kuuru\\AppData\\Local\\Temp\\ipykernel_26988\\3492634216.py:5: FutureWarning:\n",
      "\n",
      "'M' is deprecated and will be removed in a future version, please use 'ME' instead.\n",
      "\n"
     ]
    },
    {
     "data": {
      "application/vnd.plotly.v1+json": {
       "config": {
        "plotlyServerURL": "https://plot.ly"
       },
       "data": [
        {
         "fillpattern": {
          "shape": ""
         },
         "hovertemplate": "variable=temperature<br>datetime=%{x}<br>value=%{y}<extra></extra>",
         "legendgroup": "temperature",
         "line": {
          "color": "#636efa"
         },
         "marker": {
          "symbol": "circle"
         },
         "mode": "lines",
         "name": "temperature",
         "orientation": "v",
         "showlegend": true,
         "stackgroup": "1",
         "type": "scatter",
         "x": [
          "2015-01-31T00:00:00+00:00",
          "2015-02-28T00:00:00+00:00",
          "2015-03-31T00:00:00+00:00",
          "2015-04-30T00:00:00+00:00",
          "2015-05-31T00:00:00+00:00",
          "2015-06-30T00:00:00+00:00",
          "2015-07-31T00:00:00+00:00",
          "2015-08-31T00:00:00+00:00",
          "2015-09-30T00:00:00+00:00",
          "2015-10-31T00:00:00+00:00",
          "2015-11-30T00:00:00+00:00",
          "2015-12-31T00:00:00+00:00",
          "2016-01-31T00:00:00+00:00",
          "2016-02-29T00:00:00+00:00",
          "2016-03-31T00:00:00+00:00",
          "2016-04-30T00:00:00+00:00",
          "2016-05-31T00:00:00+00:00",
          "2016-06-30T00:00:00+00:00",
          "2016-07-31T00:00:00+00:00",
          "2016-08-31T00:00:00+00:00",
          "2016-09-30T00:00:00+00:00",
          "2016-10-31T00:00:00+00:00",
          "2016-11-30T00:00:00+00:00",
          "2016-12-31T00:00:00+00:00",
          "2017-01-31T00:00:00+00:00",
          "2017-02-28T00:00:00+00:00",
          "2017-03-31T00:00:00+00:00",
          "2017-04-30T00:00:00+00:00",
          "2017-05-31T00:00:00+00:00",
          "2017-06-30T00:00:00+00:00",
          "2017-07-31T00:00:00+00:00",
          "2017-08-31T00:00:00+00:00",
          "2017-09-30T00:00:00+00:00",
          "2017-10-31T00:00:00+00:00",
          "2017-11-30T00:00:00+00:00",
          "2017-12-31T00:00:00+00:00",
          "2018-01-31T00:00:00+00:00",
          "2018-02-28T00:00:00+00:00",
          "2018-03-31T00:00:00+00:00",
          "2018-04-30T00:00:00+00:00",
          "2018-05-31T00:00:00+00:00",
          "2018-06-30T00:00:00+00:00",
          "2018-07-31T00:00:00+00:00",
          "2018-08-31T00:00:00+00:00",
          "2018-09-30T00:00:00+00:00",
          "2018-10-31T00:00:00+00:00",
          "2018-11-30T00:00:00+00:00",
          "2018-12-31T00:00:00+00:00",
          "2019-01-31T00:00:00+00:00",
          "2019-02-28T00:00:00+00:00",
          "2019-03-31T00:00:00+00:00",
          "2019-04-30T00:00:00+00:00",
          "2019-05-31T00:00:00+00:00",
          "2019-06-30T00:00:00+00:00",
          "2019-07-31T00:00:00+00:00",
          "2019-08-31T00:00:00+00:00",
          "2019-09-30T00:00:00+00:00",
          "2019-10-31T00:00:00+00:00",
          "2019-11-30T00:00:00+00:00",
          "2019-12-31T00:00:00+00:00",
          "2020-01-31T00:00:00+00:00",
          "2020-02-29T00:00:00+00:00",
          "2020-03-31T00:00:00+00:00",
          "2020-04-30T00:00:00+00:00",
          "2020-05-31T00:00:00+00:00",
          "2020-06-30T00:00:00+00:00",
          "2020-07-31T00:00:00+00:00",
          "2020-08-31T00:00:00+00:00",
          "2020-09-30T00:00:00+00:00",
          "2020-10-31T00:00:00+00:00",
          "2020-11-30T00:00:00+00:00",
          "2020-12-31T00:00:00+00:00",
          "2021-01-31T00:00:00+00:00",
          "2021-02-28T00:00:00+00:00",
          "2021-03-31T00:00:00+00:00",
          "2021-04-30T00:00:00+00:00",
          "2021-05-31T00:00:00+00:00",
          "2021-06-30T00:00:00+00:00",
          "2021-07-31T00:00:00+00:00",
          "2021-08-31T00:00:00+00:00",
          "2021-09-30T00:00:00+00:00",
          "2021-10-31T00:00:00+00:00",
          "2021-11-30T00:00:00+00:00",
          "2021-12-31T00:00:00+00:00",
          "2022-01-31T00:00:00+00:00",
          "2022-02-28T00:00:00+00:00",
          "2022-03-31T00:00:00+00:00",
          "2022-04-30T00:00:00+00:00",
          "2022-05-31T00:00:00+00:00",
          "2022-06-30T00:00:00+00:00",
          "2022-07-31T00:00:00+00:00",
          "2022-08-31T00:00:00+00:00",
          "2022-09-30T00:00:00+00:00",
          "2022-10-31T00:00:00+00:00",
          "2022-11-30T00:00:00+00:00",
          "2022-12-31T00:00:00+00:00",
          "2023-01-31T00:00:00+00:00",
          "2023-02-28T00:00:00+00:00",
          "2023-03-31T00:00:00+00:00",
          "2023-04-30T00:00:00+00:00",
          "2023-05-31T00:00:00+00:00",
          "2023-06-30T00:00:00+00:00",
          "2023-07-31T00:00:00+00:00",
          "2023-08-31T00:00:00+00:00",
          "2023-09-30T00:00:00+00:00",
          "2023-10-31T00:00:00+00:00",
          "2023-11-30T00:00:00+00:00",
          "2023-12-31T00:00:00+00:00",
          "2024-01-31T00:00:00+00:00",
          "2024-02-29T00:00:00+00:00",
          "2024-03-31T00:00:00+00:00",
          "2024-04-30T00:00:00+00:00",
          "2024-05-31T00:00:00+00:00",
          "2024-06-30T00:00:00+00:00",
          "2024-07-31T00:00:00+00:00"
         ],
         "xaxis": "x",
         "y": [
          16.545084,
          20.87425,
          15.39925,
          11.647167,
          9.172167,
          8.049251,
          7.938833,
          8.159667,
          12.663834,
          15.363834,
          20.976334,
          18.915916,
          18.353416,
          18.465918,
          14.9805,
          15.963834,
          9.0555,
          6.6284165,
          8.901334,
          11.349251,
          8.924251,
          10.482583,
          18.520082,
          22.551332,
          20.730165,
          17.39475,
          12.45725,
          12.384334,
          5.8968334,
          4.4280834,
          6.0884995,
          6.1593337,
          10.98225,
          10.321834,
          19.078081,
          18.773916,
          13.123917,
          21.126,
          17.705166,
          11.642667,
          7.7843337,
          6.171833,
          9.617667,
          7.9343333,
          10.215583,
          17.761415,
          16.086416,
          23.746832,
          20.565584,
          19.205166,
          10.890583,
          14.909333,
          7.886417,
          5.3426666,
          6.730167,
          8.63225,
          9.826,
          19.515583,
          16.361416,
          21.963501,
          27.876,
          17.95725,
          17.067667,
          7.01975,
          10.938499,
          7.6801667,
          6.5968337,
          8.521833,
          11.500999,
          12.223916,
          15.180167,
          14.700999,
          16.896833,
          19.559332,
          14.1135,
          13.396832,
          8.361417,
          9.559333,
          12.665584,
          11.855166,
          13.159333,
          11.79475,
          16.798916,
          18.926,
          21.075998,
          17.042665,
          11.36975,
          10.711417,
          4.6864166,
          8.136416,
          9.11975,
          10.965584,
          9.417666,
          15.426,
          12.809333,
          17.31975,
          17.455166,
          18.530165,
          13.694749,
          8.396833,
          12.4635,
          7.1468334,
          9.880166,
          9.7385,
          19.359333,
          13.165584,
          17.342667,
          14.651,
          17.736416,
          24.426,
          17.601,
          9.98225,
          10.796833,
          5.5614166,
          7.622429
         ],
         "yaxis": "y"
        },
        {
         "fillpattern": {
          "shape": ""
         },
         "hovertemplate": "variable=rainfall<br>datetime=%{x}<br>value=%{y}<extra></extra>",
         "legendgroup": "rainfall",
         "line": {
          "color": "#EF553B"
         },
         "marker": {
          "symbol": "circle"
         },
         "mode": "lines",
         "name": "rainfall",
         "orientation": "v",
         "showlegend": true,
         "stackgroup": "1",
         "type": "scatter",
         "x": [
          "2015-01-31T00:00:00+00:00",
          "2015-02-28T00:00:00+00:00",
          "2015-03-31T00:00:00+00:00",
          "2015-04-30T00:00:00+00:00",
          "2015-05-31T00:00:00+00:00",
          "2015-06-30T00:00:00+00:00",
          "2015-07-31T00:00:00+00:00",
          "2015-08-31T00:00:00+00:00",
          "2015-09-30T00:00:00+00:00",
          "2015-10-31T00:00:00+00:00",
          "2015-11-30T00:00:00+00:00",
          "2015-12-31T00:00:00+00:00",
          "2016-01-31T00:00:00+00:00",
          "2016-02-29T00:00:00+00:00",
          "2016-03-31T00:00:00+00:00",
          "2016-04-30T00:00:00+00:00",
          "2016-05-31T00:00:00+00:00",
          "2016-06-30T00:00:00+00:00",
          "2016-07-31T00:00:00+00:00",
          "2016-08-31T00:00:00+00:00",
          "2016-09-30T00:00:00+00:00",
          "2016-10-31T00:00:00+00:00",
          "2016-11-30T00:00:00+00:00",
          "2016-12-31T00:00:00+00:00",
          "2017-01-31T00:00:00+00:00",
          "2017-02-28T00:00:00+00:00",
          "2017-03-31T00:00:00+00:00",
          "2017-04-30T00:00:00+00:00",
          "2017-05-31T00:00:00+00:00",
          "2017-06-30T00:00:00+00:00",
          "2017-07-31T00:00:00+00:00",
          "2017-08-31T00:00:00+00:00",
          "2017-09-30T00:00:00+00:00",
          "2017-10-31T00:00:00+00:00",
          "2017-11-30T00:00:00+00:00",
          "2017-12-31T00:00:00+00:00",
          "2018-01-31T00:00:00+00:00",
          "2018-02-28T00:00:00+00:00",
          "2018-03-31T00:00:00+00:00",
          "2018-04-30T00:00:00+00:00",
          "2018-05-31T00:00:00+00:00",
          "2018-06-30T00:00:00+00:00",
          "2018-07-31T00:00:00+00:00",
          "2018-08-31T00:00:00+00:00",
          "2018-09-30T00:00:00+00:00",
          "2018-10-31T00:00:00+00:00",
          "2018-11-30T00:00:00+00:00",
          "2018-12-31T00:00:00+00:00",
          "2019-01-31T00:00:00+00:00",
          "2019-02-28T00:00:00+00:00",
          "2019-03-31T00:00:00+00:00",
          "2019-04-30T00:00:00+00:00",
          "2019-05-31T00:00:00+00:00",
          "2019-06-30T00:00:00+00:00",
          "2019-07-31T00:00:00+00:00",
          "2019-08-31T00:00:00+00:00",
          "2019-09-30T00:00:00+00:00",
          "2019-10-31T00:00:00+00:00",
          "2019-11-30T00:00:00+00:00",
          "2019-12-31T00:00:00+00:00",
          "2020-01-31T00:00:00+00:00",
          "2020-02-29T00:00:00+00:00",
          "2020-03-31T00:00:00+00:00",
          "2020-04-30T00:00:00+00:00",
          "2020-05-31T00:00:00+00:00",
          "2020-06-30T00:00:00+00:00",
          "2020-07-31T00:00:00+00:00",
          "2020-08-31T00:00:00+00:00",
          "2020-09-30T00:00:00+00:00",
          "2020-10-31T00:00:00+00:00",
          "2020-11-30T00:00:00+00:00",
          "2020-12-31T00:00:00+00:00",
          "2021-01-31T00:00:00+00:00",
          "2021-02-28T00:00:00+00:00",
          "2021-03-31T00:00:00+00:00",
          "2021-04-30T00:00:00+00:00",
          "2021-05-31T00:00:00+00:00",
          "2021-06-30T00:00:00+00:00",
          "2021-07-31T00:00:00+00:00",
          "2021-08-31T00:00:00+00:00",
          "2021-09-30T00:00:00+00:00",
          "2021-10-31T00:00:00+00:00",
          "2021-11-30T00:00:00+00:00",
          "2021-12-31T00:00:00+00:00",
          "2022-01-31T00:00:00+00:00",
          "2022-02-28T00:00:00+00:00",
          "2022-03-31T00:00:00+00:00",
          "2022-04-30T00:00:00+00:00",
          "2022-05-31T00:00:00+00:00",
          "2022-06-30T00:00:00+00:00",
          "2022-07-31T00:00:00+00:00",
          "2022-08-31T00:00:00+00:00",
          "2022-09-30T00:00:00+00:00",
          "2022-10-31T00:00:00+00:00",
          "2022-11-30T00:00:00+00:00",
          "2022-12-31T00:00:00+00:00",
          "2023-01-31T00:00:00+00:00",
          "2023-02-28T00:00:00+00:00",
          "2023-03-31T00:00:00+00:00",
          "2023-04-30T00:00:00+00:00",
          "2023-05-31T00:00:00+00:00",
          "2023-06-30T00:00:00+00:00",
          "2023-07-31T00:00:00+00:00",
          "2023-08-31T00:00:00+00:00",
          "2023-09-30T00:00:00+00:00",
          "2023-10-31T00:00:00+00:00",
          "2023-11-30T00:00:00+00:00",
          "2023-12-31T00:00:00+00:00",
          "2024-01-31T00:00:00+00:00",
          "2024-02-29T00:00:00+00:00",
          "2024-03-31T00:00:00+00:00",
          "2024-04-30T00:00:00+00:00",
          "2024-05-31T00:00:00+00:00",
          "2024-06-30T00:00:00+00:00",
          "2024-07-31T00:00:00+00:00"
         ],
         "xaxis": "x",
         "y": [
          0.2,
          0,
          1.3000001,
          5,
          0.3,
          0,
          0,
          0,
          3.2,
          4.4,
          0,
          0,
          1,
          1.5,
          0,
          3.1000001,
          4.4,
          0.90000004,
          0.4,
          2.5,
          4,
          0,
          2.7,
          0,
          0.8,
          3.8000002,
          0,
          0,
          0,
          0,
          11.1,
          0,
          0,
          1.9,
          0.1,
          0.5,
          0,
          0,
          0,
          0,
          0,
          0,
          0,
          2.7,
          0,
          0,
          0.8,
          4.6,
          0.90000004,
          0,
          0,
          0,
          0,
          0,
          0,
          0.1,
          0.3,
          0,
          0.7,
          0.5,
          0,
          0,
          5.2000003,
          14.099999,
          0,
          0,
          0,
          0.2,
          4.1,
          15.2,
          0.3,
          1.5,
          0.7,
          0,
          0,
          0,
          0,
          0.70000005,
          0,
          0,
          2,
          0,
          5.7,
          0.2,
          1.8,
          9.2,
          4.7000003,
          1,
          1,
          3.3000002,
          1.1,
          0.1,
          7.1,
          10.3,
          1.5,
          2.6000001,
          0.1,
          2.7,
          0,
          1.5,
          0,
          0,
          0,
          0,
          0,
          0.2,
          0.5,
          1.9,
          2.1000001,
          1.2,
          0,
          0.2,
          4.2999997,
          0.8,
          0
         ],
         "yaxis": "y"
        }
       ],
       "layout": {
        "legend": {
         "title": {
          "text": "variable"
         },
         "tracegroupgap": 0
        },
        "margin": {
         "t": 60
        },
        "plot_bgcolor": "white",
        "template": {
         "data": {
          "bar": [
           {
            "error_x": {
             "color": "#2a3f5f"
            },
            "error_y": {
             "color": "#2a3f5f"
            },
            "marker": {
             "line": {
              "color": "#E5ECF6",
              "width": 0.5
             },
             "pattern": {
              "fillmode": "overlay",
              "size": 10,
              "solidity": 0.2
             }
            },
            "type": "bar"
           }
          ],
          "barpolar": [
           {
            "marker": {
             "line": {
              "color": "#E5ECF6",
              "width": 0.5
             },
             "pattern": {
              "fillmode": "overlay",
              "size": 10,
              "solidity": 0.2
             }
            },
            "type": "barpolar"
           }
          ],
          "carpet": [
           {
            "aaxis": {
             "endlinecolor": "#2a3f5f",
             "gridcolor": "white",
             "linecolor": "white",
             "minorgridcolor": "white",
             "startlinecolor": "#2a3f5f"
            },
            "baxis": {
             "endlinecolor": "#2a3f5f",
             "gridcolor": "white",
             "linecolor": "white",
             "minorgridcolor": "white",
             "startlinecolor": "#2a3f5f"
            },
            "type": "carpet"
           }
          ],
          "choropleth": [
           {
            "colorbar": {
             "outlinewidth": 0,
             "ticks": ""
            },
            "type": "choropleth"
           }
          ],
          "contour": [
           {
            "colorbar": {
             "outlinewidth": 0,
             "ticks": ""
            },
            "colorscale": [
             [
              0,
              "#0d0887"
             ],
             [
              0.1111111111111111,
              "#46039f"
             ],
             [
              0.2222222222222222,
              "#7201a8"
             ],
             [
              0.3333333333333333,
              "#9c179e"
             ],
             [
              0.4444444444444444,
              "#bd3786"
             ],
             [
              0.5555555555555556,
              "#d8576b"
             ],
             [
              0.6666666666666666,
              "#ed7953"
             ],
             [
              0.7777777777777778,
              "#fb9f3a"
             ],
             [
              0.8888888888888888,
              "#fdca26"
             ],
             [
              1,
              "#f0f921"
             ]
            ],
            "type": "contour"
           }
          ],
          "contourcarpet": [
           {
            "colorbar": {
             "outlinewidth": 0,
             "ticks": ""
            },
            "type": "contourcarpet"
           }
          ],
          "heatmap": [
           {
            "colorbar": {
             "outlinewidth": 0,
             "ticks": ""
            },
            "colorscale": [
             [
              0,
              "#0d0887"
             ],
             [
              0.1111111111111111,
              "#46039f"
             ],
             [
              0.2222222222222222,
              "#7201a8"
             ],
             [
              0.3333333333333333,
              "#9c179e"
             ],
             [
              0.4444444444444444,
              "#bd3786"
             ],
             [
              0.5555555555555556,
              "#d8576b"
             ],
             [
              0.6666666666666666,
              "#ed7953"
             ],
             [
              0.7777777777777778,
              "#fb9f3a"
             ],
             [
              0.8888888888888888,
              "#fdca26"
             ],
             [
              1,
              "#f0f921"
             ]
            ],
            "type": "heatmap"
           }
          ],
          "heatmapgl": [
           {
            "colorbar": {
             "outlinewidth": 0,
             "ticks": ""
            },
            "colorscale": [
             [
              0,
              "#0d0887"
             ],
             [
              0.1111111111111111,
              "#46039f"
             ],
             [
              0.2222222222222222,
              "#7201a8"
             ],
             [
              0.3333333333333333,
              "#9c179e"
             ],
             [
              0.4444444444444444,
              "#bd3786"
             ],
             [
              0.5555555555555556,
              "#d8576b"
             ],
             [
              0.6666666666666666,
              "#ed7953"
             ],
             [
              0.7777777777777778,
              "#fb9f3a"
             ],
             [
              0.8888888888888888,
              "#fdca26"
             ],
             [
              1,
              "#f0f921"
             ]
            ],
            "type": "heatmapgl"
           }
          ],
          "histogram": [
           {
            "marker": {
             "pattern": {
              "fillmode": "overlay",
              "size": 10,
              "solidity": 0.2
             }
            },
            "type": "histogram"
           }
          ],
          "histogram2d": [
           {
            "colorbar": {
             "outlinewidth": 0,
             "ticks": ""
            },
            "colorscale": [
             [
              0,
              "#0d0887"
             ],
             [
              0.1111111111111111,
              "#46039f"
             ],
             [
              0.2222222222222222,
              "#7201a8"
             ],
             [
              0.3333333333333333,
              "#9c179e"
             ],
             [
              0.4444444444444444,
              "#bd3786"
             ],
             [
              0.5555555555555556,
              "#d8576b"
             ],
             [
              0.6666666666666666,
              "#ed7953"
             ],
             [
              0.7777777777777778,
              "#fb9f3a"
             ],
             [
              0.8888888888888888,
              "#fdca26"
             ],
             [
              1,
              "#f0f921"
             ]
            ],
            "type": "histogram2d"
           }
          ],
          "histogram2dcontour": [
           {
            "colorbar": {
             "outlinewidth": 0,
             "ticks": ""
            },
            "colorscale": [
             [
              0,
              "#0d0887"
             ],
             [
              0.1111111111111111,
              "#46039f"
             ],
             [
              0.2222222222222222,
              "#7201a8"
             ],
             [
              0.3333333333333333,
              "#9c179e"
             ],
             [
              0.4444444444444444,
              "#bd3786"
             ],
             [
              0.5555555555555556,
              "#d8576b"
             ],
             [
              0.6666666666666666,
              "#ed7953"
             ],
             [
              0.7777777777777778,
              "#fb9f3a"
             ],
             [
              0.8888888888888888,
              "#fdca26"
             ],
             [
              1,
              "#f0f921"
             ]
            ],
            "type": "histogram2dcontour"
           }
          ],
          "mesh3d": [
           {
            "colorbar": {
             "outlinewidth": 0,
             "ticks": ""
            },
            "type": "mesh3d"
           }
          ],
          "parcoords": [
           {
            "line": {
             "colorbar": {
              "outlinewidth": 0,
              "ticks": ""
             }
            },
            "type": "parcoords"
           }
          ],
          "pie": [
           {
            "automargin": true,
            "type": "pie"
           }
          ],
          "scatter": [
           {
            "fillpattern": {
             "fillmode": "overlay",
             "size": 10,
             "solidity": 0.2
            },
            "type": "scatter"
           }
          ],
          "scatter3d": [
           {
            "line": {
             "colorbar": {
              "outlinewidth": 0,
              "ticks": ""
             }
            },
            "marker": {
             "colorbar": {
              "outlinewidth": 0,
              "ticks": ""
             }
            },
            "type": "scatter3d"
           }
          ],
          "scattercarpet": [
           {
            "marker": {
             "colorbar": {
              "outlinewidth": 0,
              "ticks": ""
             }
            },
            "type": "scattercarpet"
           }
          ],
          "scattergeo": [
           {
            "marker": {
             "colorbar": {
              "outlinewidth": 0,
              "ticks": ""
             }
            },
            "type": "scattergeo"
           }
          ],
          "scattergl": [
           {
            "marker": {
             "colorbar": {
              "outlinewidth": 0,
              "ticks": ""
             }
            },
            "type": "scattergl"
           }
          ],
          "scattermapbox": [
           {
            "marker": {
             "colorbar": {
              "outlinewidth": 0,
              "ticks": ""
             }
            },
            "type": "scattermapbox"
           }
          ],
          "scatterpolar": [
           {
            "marker": {
             "colorbar": {
              "outlinewidth": 0,
              "ticks": ""
             }
            },
            "type": "scatterpolar"
           }
          ],
          "scatterpolargl": [
           {
            "marker": {
             "colorbar": {
              "outlinewidth": 0,
              "ticks": ""
             }
            },
            "type": "scatterpolargl"
           }
          ],
          "scatterternary": [
           {
            "marker": {
             "colorbar": {
              "outlinewidth": 0,
              "ticks": ""
             }
            },
            "type": "scatterternary"
           }
          ],
          "surface": [
           {
            "colorbar": {
             "outlinewidth": 0,
             "ticks": ""
            },
            "colorscale": [
             [
              0,
              "#0d0887"
             ],
             [
              0.1111111111111111,
              "#46039f"
             ],
             [
              0.2222222222222222,
              "#7201a8"
             ],
             [
              0.3333333333333333,
              "#9c179e"
             ],
             [
              0.4444444444444444,
              "#bd3786"
             ],
             [
              0.5555555555555556,
              "#d8576b"
             ],
             [
              0.6666666666666666,
              "#ed7953"
             ],
             [
              0.7777777777777778,
              "#fb9f3a"
             ],
             [
              0.8888888888888888,
              "#fdca26"
             ],
             [
              1,
              "#f0f921"
             ]
            ],
            "type": "surface"
           }
          ],
          "table": [
           {
            "cells": {
             "fill": {
              "color": "#EBF0F8"
             },
             "line": {
              "color": "white"
             }
            },
            "header": {
             "fill": {
              "color": "#C8D4E3"
             },
             "line": {
              "color": "white"
             }
            },
            "type": "table"
           }
          ]
         },
         "layout": {
          "annotationdefaults": {
           "arrowcolor": "#2a3f5f",
           "arrowhead": 0,
           "arrowwidth": 1
          },
          "autotypenumbers": "strict",
          "coloraxis": {
           "colorbar": {
            "outlinewidth": 0,
            "ticks": ""
           }
          },
          "colorscale": {
           "diverging": [
            [
             0,
             "#8e0152"
            ],
            [
             0.1,
             "#c51b7d"
            ],
            [
             0.2,
             "#de77ae"
            ],
            [
             0.3,
             "#f1b6da"
            ],
            [
             0.4,
             "#fde0ef"
            ],
            [
             0.5,
             "#f7f7f7"
            ],
            [
             0.6,
             "#e6f5d0"
            ],
            [
             0.7,
             "#b8e186"
            ],
            [
             0.8,
             "#7fbc41"
            ],
            [
             0.9,
             "#4d9221"
            ],
            [
             1,
             "#276419"
            ]
           ],
           "sequential": [
            [
             0,
             "#0d0887"
            ],
            [
             0.1111111111111111,
             "#46039f"
            ],
            [
             0.2222222222222222,
             "#7201a8"
            ],
            [
             0.3333333333333333,
             "#9c179e"
            ],
            [
             0.4444444444444444,
             "#bd3786"
            ],
            [
             0.5555555555555556,
             "#d8576b"
            ],
            [
             0.6666666666666666,
             "#ed7953"
            ],
            [
             0.7777777777777778,
             "#fb9f3a"
            ],
            [
             0.8888888888888888,
             "#fdca26"
            ],
            [
             1,
             "#f0f921"
            ]
           ],
           "sequentialminus": [
            [
             0,
             "#0d0887"
            ],
            [
             0.1111111111111111,
             "#46039f"
            ],
            [
             0.2222222222222222,
             "#7201a8"
            ],
            [
             0.3333333333333333,
             "#9c179e"
            ],
            [
             0.4444444444444444,
             "#bd3786"
            ],
            [
             0.5555555555555556,
             "#d8576b"
            ],
            [
             0.6666666666666666,
             "#ed7953"
            ],
            [
             0.7777777777777778,
             "#fb9f3a"
            ],
            [
             0.8888888888888888,
             "#fdca26"
            ],
            [
             1,
             "#f0f921"
            ]
           ]
          },
          "colorway": [
           "#636efa",
           "#EF553B",
           "#00cc96",
           "#ab63fa",
           "#FFA15A",
           "#19d3f3",
           "#FF6692",
           "#B6E880",
           "#FF97FF",
           "#FECB52"
          ],
          "font": {
           "color": "#2a3f5f"
          },
          "geo": {
           "bgcolor": "white",
           "lakecolor": "white",
           "landcolor": "#E5ECF6",
           "showlakes": true,
           "showland": true,
           "subunitcolor": "white"
          },
          "hoverlabel": {
           "align": "left"
          },
          "hovermode": "closest",
          "mapbox": {
           "style": "light"
          },
          "paper_bgcolor": "white",
          "plot_bgcolor": "#E5ECF6",
          "polar": {
           "angularaxis": {
            "gridcolor": "white",
            "linecolor": "white",
            "ticks": ""
           },
           "bgcolor": "#E5ECF6",
           "radialaxis": {
            "gridcolor": "white",
            "linecolor": "white",
            "ticks": ""
           }
          },
          "scene": {
           "xaxis": {
            "backgroundcolor": "#E5ECF6",
            "gridcolor": "white",
            "gridwidth": 2,
            "linecolor": "white",
            "showbackground": true,
            "ticks": "",
            "zerolinecolor": "white"
           },
           "yaxis": {
            "backgroundcolor": "#E5ECF6",
            "gridcolor": "white",
            "gridwidth": 2,
            "linecolor": "white",
            "showbackground": true,
            "ticks": "",
            "zerolinecolor": "white"
           },
           "zaxis": {
            "backgroundcolor": "#E5ECF6",
            "gridcolor": "white",
            "gridwidth": 2,
            "linecolor": "white",
            "showbackground": true,
            "ticks": "",
            "zerolinecolor": "white"
           }
          },
          "shapedefaults": {
           "line": {
            "color": "#2a3f5f"
           }
          },
          "ternary": {
           "aaxis": {
            "gridcolor": "white",
            "linecolor": "white",
            "ticks": ""
           },
           "baxis": {
            "gridcolor": "white",
            "linecolor": "white",
            "ticks": ""
           },
           "bgcolor": "#E5ECF6",
           "caxis": {
            "gridcolor": "white",
            "linecolor": "white",
            "ticks": ""
           }
          },
          "title": {
           "x": 0.05
          },
          "xaxis": {
           "automargin": true,
           "gridcolor": "white",
           "linecolor": "white",
           "ticks": "",
           "title": {
            "standoff": 15
           },
           "zerolinecolor": "white",
           "zerolinewidth": 2
          },
          "yaxis": {
           "automargin": true,
           "gridcolor": "white",
           "linecolor": "white",
           "ticks": "",
           "title": {
            "standoff": 15
           },
           "zerolinecolor": "white",
           "zerolinewidth": 2
          }
         }
        },
        "xaxis": {
         "anchor": "y",
         "domain": [
          0,
          1
         ],
         "title": {
          "text": "datetime"
         }
        },
        "yaxis": {
         "anchor": "x",
         "domain": [
          0,
          1
         ],
         "title": {
          "text": "value"
         }
        }
       }
      }
     },
     "metadata": {},
     "output_type": "display_data"
    },
    {
     "name": "stdout",
     "output_type": "stream",
     "text": [
      "None\n"
     ]
    }
   ],
   "source": [
    "def areachart(dataset,variable,startDate,endDate,period):\n",
    "\n",
    "\n",
    "    dataset[\"datetime\"] = pd.to_datetime(dataset[\"datetime\"])\n",
    "    # dataset['datetime'] = dataset['datetime'].dt.tz_localize('UTC').dt.tz_convert('UTC')\n",
    "\n",
    "    daterange = pd.date_range(startDate, endDate, freq=period)\n",
    "\n",
    "    filtered_dataset = dataset[dataset[\"datetime\"].isin(daterange)]\n",
    "\n",
    "    fig = px.area(filtered_dataset,x = \"datetime\",y = variable)\n",
    "    fig.update_layout(plot_bgcolor='white')\n",
    "\n",
    "    fig.show()\n",
    "\n",
    "startDate = pd.Timestamp(\"2015-01-01\", tz='UTC')\n",
    "endDate = pd.Timestamp(\"2024-07-31\", tz='UTC')\n",
    "variable = [\"temperature\",\"rainfall\"]\n",
    "period = \"M\"\n",
    "suburbs = ['Alpine']\n",
    "print(areachart(dataset,variable,startDate,endDate,period))"
   ]
  },
  {
   "cell_type": "code",
   "execution_count": null,
   "metadata": {},
   "outputs": [],
   "source": []
  }
 ],
 "metadata": {
  "kernelspec": {
   "display_name": "Python 3",
   "language": "python",
   "name": "python3"
  },
  "language_info": {
   "codemirror_mode": {
    "name": "ipython",
    "version": 3
   },
   "file_extension": ".py",
   "mimetype": "text/x-python",
   "name": "python",
   "nbconvert_exporter": "python",
   "pygments_lexer": "ipython3",
   "version": "3.12.5"
  }
 },
 "nbformat": 4,
 "nbformat_minor": 2
}
